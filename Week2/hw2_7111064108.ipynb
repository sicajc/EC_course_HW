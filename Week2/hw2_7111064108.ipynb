{
 "cells": [
  {
   "cell_type": "code",
   "execution_count": 102,
   "metadata": {},
   "outputs": [
    {
     "name": "stdout",
     "output_type": "stream",
     "text": [
      "[0.91781362 0.29785991 0.37533436 0.10054421 0.87120342 0.56692005\n",
      " 0.86314759 0.60131177 0.2727589  0.53059368 0.04679376 0.04730302\n",
      " 0.67977493 0.34110573 0.46695395 0.55130431 0.41156806 0.2993157\n",
      " 0.58882398 0.38392644 0.22996514 0.96063155 0.07166133 0.38565478\n",
      " 0.38601679 0.87535231 0.69099553 0.62758333 0.44552344 0.94414963]\n"
     ]
    }
   ],
   "source": [
    "import numpy as np\n",
    "import matplotlib.pyplot as plt \n",
    "\n",
    "SAMPLE_NUM = 10000\n",
    "sample = np.random.uniform(0,1,SAMPLE_NUM)\n",
    "print(sample[:30])\n"
   ]
  },
  {
   "cell_type": "code",
   "execution_count": 103,
   "metadata": {},
   "outputs": [
    {
     "data": {
      "image/png": "[encoded data removed]",
      "text/plain": [
       "<Figure size 432x288 with 1 Axes>"
      ]
     },
     "metadata": {
      "needs_background": "light"
     },
     "output_type": "display_data"
    }
   ],
   "source": [
    "\n",
    "count, bins, ignored = plt.hist(sample, 30, density=True)\n",
    "\n",
    "plt.plot(bins, np.ones_like(bins), linewidth=2, color='r')\n",
    "\n",
    "plt.show()"
   ]
  },
  {
   "cell_type": "code",
   "execution_count": 104,
   "metadata": {},
   "outputs": [
    {
     "name": "stdout",
     "output_type": "stream",
     "text": [
      "[3.08173369 7.7716879  5.79845085 6.46649997 4.78457671]\n"
     ]
    }
   ],
   "source": [
    "mu, sigma = 5, 2 # mean and standard deviation\n",
    "\n",
    "sample = np.random.normal(mu, sigma, SAMPLE_NUM)\n",
    "print(sample[:5])"
   ]
  },
  {
   "cell_type": "code",
   "execution_count": 105,
   "metadata": {},
   "outputs": [
    {
     "data": {
      "text/plain": [
       "numpy.ndarray"
      ]
     },
     "execution_count": 105,
     "metadata": {},
     "output_type": "execute_result"
    }
   ],
   "source": [
    "type(sample)"
   ]
  },
  {
   "cell_type": "code",
   "execution_count": 106,
   "metadata": {},
   "outputs": [
    {
     "data": {
      "image/png": "[encoded data removed]",
      "text/plain": [
       "<Figure size 432x288 with 1 Axes>"
      ]
     },
     "metadata": {
      "needs_background": "light"
     },
     "output_type": "display_data"
    }
   ],
   "source": [
    "count, bins, ignored = plt.hist(sample, 30, density=True)\n",
    "\n",
    "plt.plot(bins, 1/(sigma * np.sqrt(2 * np.pi)) *\n",
    "\n",
    "               np.exp( - (bins - mu)**2 / (2 * sigma**2) ),\n",
    "\n",
    "         linewidth=2, color='r')\n",
    "\n",
    "plt.show()"
   ]
  },
  {
   "cell_type": "code",
   "execution_count": 107,
   "metadata": {},
   "outputs": [
    {
     "data": {
      "text/plain": [
       "2"
      ]
     },
     "execution_count": 107,
     "metadata": {},
     "output_type": "execute_result"
    }
   ],
   "source": [
    "import random\n",
    "from random import randint\n",
    "#2d6\n",
    "NUM_OF_DICE = 2\n",
    "SIZE_OF_DIE = 6\n",
    "NUM_OF_TRIALS = 10000\n",
    "\n",
    "list_of_sum = []\n",
    "\n",
    "random.seed()\n",
    "randint(1,SIZE_OF_DIE)"
   ]
  },
  {
   "cell_type": "code",
   "execution_count": 108,
   "metadata": {},
   "outputs": [
    {
     "name": "stdout",
     "output_type": "stream",
     "text": [
      "[3, 4, 5, 7, 10, 4, 5, 8, 8, 10, 7, 11, 12, 9, 7, 8, 11, 8, 7, 2]\n"
     ]
    }
   ],
   "source": [
    "#Testing with the dice roll generator\n",
    "for _ in range(NUM_OF_TRIALS):\n",
    "    sum_of_die = 0\n",
    "    for _ in range(NUM_OF_DICE):\n",
    "        sum_of_die += randint(1,SIZE_OF_DIE)\n",
    "    \n",
    "    list_of_sum.append(sum_of_die)\n",
    "    \n",
    "print(list_of_sum[:20])"
   ]
  },
  {
   "cell_type": "code",
   "execution_count": 109,
   "metadata": {},
   "outputs": [],
   "source": [
    "from typing import List\n",
    "\n",
    "#Creating function for reusability\n",
    "def dice_roll_generator(num_of_dice:int , size_of_die : int,num_of_trials:int) -> np.ndarray:\n",
    "    \"\"\"\n",
    "    Args:\n",
    "        num_of_dice (int): The number of dices you have\n",
    "        size_of_die (int): The upper limit of a single die\n",
    "        num_of_trials (int): Trials you want to commit\n",
    "\n",
    "    Returns:\n",
    "        List: Return a list of summation of die value after a number of trials \n",
    "    \"\"\"\n",
    "    list_of_sum =[]\n",
    "    for _ in range(num_of_trials):\n",
    "        sum_of_die = 0\n",
    "        for _ in range(num_of_dice):\n",
    "            random.seed()\n",
    "            sum_of_die += randint(1,size_of_die)\n",
    "    \n",
    "        list_of_sum.append(sum_of_die)\n",
    "    \n",
    "    return np.array(list_of_sum)"
   ]
  },
  {
   "cell_type": "code",
   "execution_count": 110,
   "metadata": {},
   "outputs": [
    {
     "name": "stdout",
     "output_type": "stream",
     "text": [
      "type:<class 'numpy.ndarray'> , [6 8 2 3 5]\n"
     ]
    }
   ],
   "source": [
    "#2d6\n",
    "two_die_six = []\n",
    "two_die_six = dice_roll_generator(2,6,10000)\n",
    "print(f'type:{type(two_die_six)} , {two_die_six[:5]}')\n"
   ]
  },
  {
   "cell_type": "code",
   "execution_count": 111,
   "metadata": {},
   "outputs": [
    {
     "data": {
      "image/png": "[encoded data removed]",
      "text/plain": [
       "<Figure size 432x288 with 1 Axes>"
      ]
     },
     "metadata": {
      "needs_background": "light"
     },
     "output_type": "display_data"
    }
   ],
   "source": [
    "plt.hist(two_die_six, 30, density=True)\n",
    "plt.title(\"2d6\")\n",
    "plt.show()"
   ]
  },
  {
   "cell_type": "code",
   "execution_count": 112,
   "metadata": {},
   "outputs": [],
   "source": [
    "#Creating plot histogram function\n",
    "def plt_hist(list:np.ndarray,title:str)->None:\n",
    "    plt.hist(list, 50, density=False)\n",
    "    plt.title(title)\n",
    "    plt.show()"
   ]
  },
  {
   "cell_type": "code",
   "execution_count": 113,
   "metadata": {},
   "outputs": [
    {
     "data": {
      "image/png": "[encoded data removed]",
      "text/plain": [
       "<Figure size 432x288 with 1 Axes>"
      ]
     },
     "metadata": {
      "needs_background": "light"
     },
     "output_type": "display_data"
    }
   ],
   "source": [
    "#2d6\n",
    "plt_hist(dice_roll_generator(2,6,10000),\"2d6\")"
   ]
  },
  {
   "cell_type": "code",
   "execution_count": 114,
   "metadata": {},
   "outputs": [
    {
     "data": {
      "image/png": "[encoded data removed]",
      "text/plain": [
       "<Figure size 432x288 with 1 Axes>"
      ]
     },
     "metadata": {
      "needs_background": "light"
     },
     "output_type": "display_data"
    }
   ],
   "source": [
    "#1d12\n",
    "plt_hist(dice_roll_generator(1,12,10000),\"1d12\")"
   ]
  },
  {
   "cell_type": "code",
   "execution_count": 115,
   "metadata": {},
   "outputs": [
    {
     "data": {
      "image/png": "[encoded data removed]",
      "text/plain": [
       "<Figure size 432x288 with 1 Axes>"
      ]
     },
     "metadata": {
      "needs_background": "light"
     },
     "output_type": "display_data"
    }
   ],
   "source": [
    "#2d10\n",
    "plt_hist(dice_roll_generator(2,10,10000),\"2d10\")"
   ]
  },
  {
   "cell_type": "code",
   "execution_count": 116,
   "metadata": {},
   "outputs": [
    {
     "data": {
      "image/png": "[encoded data removed]",
      "text/plain": [
       "<Figure size 432x288 with 1 Axes>"
      ]
     },
     "metadata": {
      "needs_background": "light"
     },
     "output_type": "display_data"
    }
   ],
   "source": [
    "#1d20\n",
    "plt_hist(dice_roll_generator(1,20,10000),\"1d20\")"
   ]
  },
  {
   "cell_type": "code",
   "execution_count": null,
   "metadata": {},
   "outputs": [],
   "source": []
  }
 ],
 "metadata": {
  "kernelspec": {
   "display_name": "Python 3.9.12 ('base')",
   "language": "python",
   "name": "python3"
  },
  "language_info": {
   "codemirror_mode": {
    "name": "ipython",
    "version": 3
   },
   "file_extension": ".py",
   "mimetype": "text/x-python",
   "name": "python",
   "nbconvert_exporter": "python",
   "pygments_lexer": "ipython3",
   "version": "3.9.12"
  },
  "orig_nbformat": 4,
  "vscode": {
   "interpreter": {
    "hash": "99b59deff7827a9d9c876a01001fad615b615040f915a980cea8ff96b4e320a5"
   }
  }
 },
 "nbformat": 4,
 "nbformat_minor": 2
}
