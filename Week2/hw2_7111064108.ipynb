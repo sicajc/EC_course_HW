{
 "cells": [
  {
   "cell_type": "code",
   "execution_count": 10,
   "metadata": {},
   "outputs": [
    {
     "name": "stdout",
     "output_type": "stream",
     "text": [
      "[0.51666247 0.70481315 0.78069188 0.18385337 0.11350941 0.90664932\n",
      " 0.06346625 0.73839851 0.83581289 0.82114977 0.78341606 0.19042346\n",
      " 0.59850254 0.353025   0.27205333 0.08577338 0.58218115 0.77475526\n",
      " 0.85188263 0.93611712 0.08783398 0.89910359 0.47484783 0.71175594\n",
      " 0.47117051 0.23814998 0.23390942 0.31612224 0.74144465 0.80025475]\n"
     ]
    }
   ],
   "source": [
    "import numpy as np\n",
    "import matplotlib.pyplot as plt \n",
    "\n",
    "SAMPLE_NUM = 10000\n",
    "sample = np.random.uniform(0,1,SAMPLE_NUM)\n",
    "print(sample[:30])\n",
    "\n"
   ]
  },
  {
   "cell_type": "code",
   "execution_count": 21,
   "metadata": {},
   "outputs": [
    {
     "data": {
      "image/png": "[encoded data removed]",
      "text/plain": [
       "<Figure size 432x288 with 1 Axes>"
      ]
     },
     "metadata": {
      "needs_background": "light"
     },
     "output_type": "display_data"
    }
   ],
   "source": [
    "\n",
    "count, bins, ignored = plt.hist(sample, 30, density=True)\n",
    "\n",
    "plt.plot(bins, np.ones_like(bins), linewidth=2, color='r')\n",
    "\n",
    "plt.show()"
   ]
  },
  {
   "cell_type": "code",
   "execution_count": 12,
   "metadata": {},
   "outputs": [
    {
     "name": "stdout",
     "output_type": "stream",
     "text": [
      "[4.98728243 5.31072694 6.82994832 7.32861996 5.84940688]\n"
     ]
    }
   ],
   "source": [
    "mu, sigma = 5, 2 # mean and standard deviation\n",
    "\n",
    "sample = np.random.normal(mu, sigma, SAMPLE_NUM)\n",
    "print(sample[:5])"
   ]
  },
  {
   "cell_type": "code",
   "execution_count": 28,
   "metadata": {},
   "outputs": [
    {
     "data": {
      "text/plain": [
       "numpy.ndarray"
      ]
     },
     "execution_count": 28,
     "metadata": {},
     "output_type": "execute_result"
    }
   ],
   "source": [
    "type(sample)"
   ]
  },
  {
   "cell_type": "code",
   "execution_count": 14,
   "metadata": {},
   "outputs": [
    {
     "data": {
      "image/png": "[encoded data removed]",
      "text/plain": [
       "<Figure size 432x288 with 1 Axes>"
      ]
     },
     "metadata": {
      "needs_background": "light"
     },
     "output_type": "display_data"
    }
   ],
   "source": [
    "count, bins, ignored = plt.hist(sample, 30, density=True)\n",
    "\n",
    "plt.plot(bins, 1/(sigma * np.sqrt(2 * np.pi)) *\n",
    "\n",
    "               np.exp( - (bins - mu)**2 / (2 * sigma**2) ),\n",
    "\n",
    "         linewidth=2, color='r')\n",
    "\n",
    "plt.show()"
   ]
  },
  {
   "cell_type": "code",
   "execution_count": 20,
   "metadata": {},
   "outputs": [
    {
     "data": {
      "text/plain": [
       "3"
      ]
     },
     "execution_count": 20,
     "metadata": {},
     "output_type": "execute_result"
    }
   ],
   "source": [
    "import random\n",
    "from random import randint\n",
    "#2d6\n",
    "NUM_OF_DICE = 2\n",
    "SIZE_OF_DIE = 6\n",
    "NUM_OF_TRIALS = 10000\n",
    "\n",
    "list_of_sum = []\n",
    "\n",
    "random.seed()\n",
    "randint(1,SIZE_OF_DIE)"
   ]
  },
  {
   "cell_type": "code",
   "execution_count": 23,
   "metadata": {},
   "outputs": [
    {
     "name": "stdout",
     "output_type": "stream",
     "text": [
      "[2, 6, 4, 6, 4, 10, 4, 8, 3, 7, 8, 6, 8, 6, 10, 8, 8, 6, 8, 6]\n"
     ]
    }
   ],
   "source": [
    "for _ in range(NUM_OF_TRIALS):\n",
    "    sum_of_die = 0\n",
    "    for _ in range(NUM_OF_DICE):\n",
    "        sum_of_die += randint(1,SIZE_OF_DIE)\n",
    "    \n",
    "    list_of_sum.append(sum_of_die)\n",
    "    \n",
    "print(list_of_sum[:20])"
   ]
  },
  {
   "cell_type": "code",
   "execution_count": 24,
   "metadata": {},
   "outputs": [],
   "source": [
    "from typing import List\n",
    "\n",
    "def dice_roll_generator(num_of_dice:int , size_of_die : int,num_of_trials:int) -> np.ndarray:\n",
    "    \"\"\"\n",
    "    Args:\n",
    "        num_of_dice (int): The number of dices you have\n",
    "        size_of_die (int): The upper limit of a single die\n",
    "        num_of_trials (int): Trials you want to commit\n",
    "\n",
    "    Returns:\n",
    "        List: Return a list of summation of die value after a number of trials \n",
    "    \"\"\"\n",
    "    \n",
    "    list_of_sum =[]\n",
    "    for _ in range(num_of_trials):\n",
    "        sum_of_die = 0\n",
    "        for _ in range(num_of_dice):\n",
    "            sum_of_die += randint(1,size_of_die)\n",
    "    \n",
    "        list_of_sum.append(sum_of_die)\n",
    "    \n",
    "    return list_of_sum"
   ]
  },
  {
   "cell_type": "code",
   "execution_count": 27,
   "metadata": {},
   "outputs": [
    {
     "name": "stdout",
     "output_type": "stream",
     "text": [
      "[2, 6, 4, 6, 4]\n"
     ]
    }
   ],
   "source": [
    "#2d6\n",
    "two_die_six = []\n",
    "two_die_six = dice_roll_generator(2,6,10000)\n"
   ]
  },
  {
   "cell_type": "code",
   "execution_count": null,
   "metadata": {},
   "outputs": [],
   "source": []
  }
 ],
 "metadata": {
  "kernelspec": {
   "display_name": "Python 3.9.12 ('base')",
   "language": "python",
   "name": "python3"
  },
  "language_info": {
   "codemirror_mode": {
    "name": "ipython",
    "version": 3
   },
   "file_extension": ".py",
   "mimetype": "text/x-python",
   "name": "python",
   "nbconvert_exporter": "python",
   "pygments_lexer": "ipython3",
   "version": "3.9.12"
  },
  "orig_nbformat": 4,
  "vscode": {
   "interpreter": {
    "hash": "99b59deff7827a9d9c876a01001fad615b615040f915a980cea8ff96b4e320a5"
   }
  }
 },
 "nbformat": 4,
 "nbformat_minor": 2
}
