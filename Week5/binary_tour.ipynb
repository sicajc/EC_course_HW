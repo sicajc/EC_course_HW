{
 "cells": [
  {
   "cell_type": "code",
   "execution_count": 63,
   "metadata": {},
   "outputs": [
    {
     "name": "stdout",
     "output_type": "stream",
     "text": [
      "[3, 9, 36, 27, 8, 11, 34, 7, 20, 24, 37, 27, 37, 2, 14, 34, 15, 31, 25, 25, 30, 13, 23, 29, 12, 24, 23, 18, 24, 32]\n"
     ]
    }
   ],
   "source": [
    "from random import Random\n",
    "import random\n",
    "import matplotlib.pyplot as plt\n",
    "import numpy as np\n",
    "\n",
    "\n",
    "#A few useful constants\n",
    "#\n",
    "pop_size=30\n",
    "generations=10\n",
    "fit_range=40\n",
    "\n",
    "\n",
    "#Init the random number generator\n",
    "#\n",
    "prng=Random()\n",
    "prng.seed()\n",
    "\n",
    "\n",
    "#Let's suppose we have an imaginary problem that generates\n",
    "#integer fitness values on some fixed range.  We'll start by randomly\n",
    "#initializing a population of fitness values\n",
    "#\n",
    "pop = [prng.randrange(0,fit_range) for _ in range(pop_size)]\n",
    "print(pop)\n"
   ]
  },
  {
   "cell_type": "code",
   "execution_count": 64,
   "metadata": {},
   "outputs": [
    {
     "name": "stdout",
     "output_type": "stream",
     "text": [
      "List of biases:\n",
      " [0, 3, 0, 0, 5, 12, 0, -1, 9, 0, 2, 0, -1, -1, 0]\n",
      "Compete_pairs:\n",
      "[[3, 34], [35, 32], [27, 24], [27, 25], [18, 13], [36, 24], [18, 7], [28, 29], [20, 11], [31, 31], [10, 8], [15, 34], [35, 36], [36, 37], [30, 25]]\n"
     ]
    }
   ],
   "source": [
    "#Binary Tournament\n",
    "#1. Creating compete pairs\n",
    "\n",
    "compete_pairs = []\n",
    "bias_list = []\n",
    "for _ in range(pop_size//2):\n",
    "    bias = 0\n",
    "    mutate = random.randint(0,1)\n",
    "    \n",
    "    #Shuffle the list\n",
    "    random.shuffle(pop)\n",
    "    \n",
    "    #Extract two fitness from pop\n",
    "    x1 = pop.pop()\n",
    "    x2 = pop.pop()\n",
    "    \n",
    "    if mutate == 1:\n",
    "        pair = [x1,x2]\n",
    "        #Mutate\n",
    "        bias_range = min(fit_range - x1 , fit_range -x2,x1,x2)\n",
    "        bias = random.randint(-bias_range,bias_range)\n",
    "        #Randomly pick a fitness in pair for mutation or simply not mutating\n",
    "        not_picked_fitness = random.sample(pair,1)[0]\n",
    "        \n",
    "        pair.remove(not_picked_fitness)\n",
    "        picked_fitness = pair[0]\n",
    "        biased_fitness = picked_fitness + bias\n",
    "        \n",
    "        x1,x2 = biased_fitness,picked_fitness\n",
    "    \n",
    "    #Recombine\n",
    "    compete_pairs.append([x1,x2])\n",
    "    \n",
    "    bias_list.append(bias)\n",
    "\n",
    "print(f\"List of biases:\\n {bias_list}\")\n",
    "print(f\"Compete_pairs:\\n{compete_pairs}\")"
   ]
  },
  {
   "cell_type": "code",
   "execution_count": 65,
   "metadata": {},
   "outputs": [
    {
     "name": "stdout",
     "output_type": "stream",
     "text": [
      "Competed_result:\n",
      " [3, 32, 24, 25, 13, 24, 7, 28, 11, 31, 8, 15, 35, 36, 25]\n"
     ]
    }
   ],
   "source": [
    "#2.Conduct binary tournament\n",
    "competed_result = []\n",
    "for pairs in compete_pairs:\n",
    "    if pairs[0] < pairs[1]:\n",
    "        competed_result.append(pairs[0])\n",
    "    else:\n",
    "        competed_result.append(pairs[1])\n",
    "        \n",
    "print(f\"Competed_result:\\n {competed_result}\")"
   ]
  },
  {
   "cell_type": "code",
   "execution_count": 66,
   "metadata": {},
   "outputs": [
    {
     "name": "stdout",
     "output_type": "stream",
     "text": [
      "New pop:\n",
      "[3, 32, 24, 25, 13, 24, 7, 28, 11, 31, 8, 15, 35, 36, 25, 9, 5, 20, 12, 7, 27, 33, 33, 26, 10, 20, 13, 21, 7, 29]\n"
     ]
    }
   ],
   "source": [
    "#3. Perform mating,create children using simple averaging.\n",
    "for _ in range(pop_size//2):\n",
    "    parent = random.sample(competed_result,2)\n",
    "    alpha = np.random.uniform(0,1)\n",
    "    child = parent[0] * alpha + (1 - alpha) * parent[1]\n",
    "    competed_result.append(int(child))\n",
    "    \n",
    "pop = competed_result\n",
    "print(f\"New pop:\\n{pop}\")\n"
   ]
  },
  {
   "cell_type": "code",
   "execution_count": 67,
   "metadata": {},
   "outputs": [
    {
     "name": "stdout",
     "output_type": "stream",
     "text": [
      "30\n"
     ]
    }
   ],
   "source": [
    "print(len(pop))"
   ]
  }
 ],
 "metadata": {
  "kernelspec": {
   "display_name": "Python 3.9.12 ('base')",
   "language": "python",
   "name": "python3"
  },
  "language_info": {
   "codemirror_mode": {
    "name": "ipython",
    "version": 3
   },
   "file_extension": ".py",
   "mimetype": "text/x-python",
   "name": "python",
   "nbconvert_exporter": "python",
   "pygments_lexer": "ipython3",
   "version": "3.9.12"
  },
  "orig_nbformat": 4,
  "vscode": {
   "interpreter": {
    "hash": "99b59deff7827a9d9c876a01001fad615b615040f915a980cea8ff96b4e320a5"
   }
  }
 },
 "nbformat": 4,
 "nbformat_minor": 2
}
