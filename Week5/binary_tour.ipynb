{
 "cells": [
  {
   "cell_type": "code",
   "execution_count": 44,
   "metadata": {},
   "outputs": [],
   "source": [
    "from random import Random\n",
    "import random\n",
    "import matplotlib.pyplot as plt\n",
    "import numpy as np\n",
    "\n",
    "\n",
    "#A few useful constants\n",
    "#\n",
    "pop_size=20\n",
    "generations=10\n",
    "fit_range=40\n",
    "\n",
    "\n",
    "#Init the random number generator\n",
    "#\n",
    "prng=Random()\n",
    "prng.seed(123)\n",
    "\n",
    "\n",
    "#Let's suppose we have an imaginary problem that generates\n",
    "#integer fitness values on some fixed range.  We'll start by randomly\n",
    "#initializing a population of fitness values\n",
    "#\n",
    "pop = [prng.randrange(0,fit_range) for _ in range(pop_size)]\n"
   ]
  },
  {
   "cell_type": "code",
   "execution_count": 45,
   "metadata": {},
   "outputs": [
    {
     "name": "stdout",
     "output_type": "stream",
     "text": [
      "[[3, 3], [21, 34], [15, 17], [17, 5], [21, 6], [10, 26], [8, 10], [35, 21], [2, 35], [24, 21]]\n"
     ]
    }
   ],
   "source": [
    "#Binary Tournament\n",
    "#1. Creating compete pairs\n",
    "compete_pairs = []\n",
    "for _ in range(pop_size//2):\n",
    "    #Shuffle the list\n",
    "    random.shuffle(pop)\n",
    "    x1 = pop.pop()\n",
    "    x2 = pop.pop()\n",
    "    compete_pairs.append([x1,x2])\n",
    "    \n",
    "print(compete_pairs)"
   ]
  },
  {
   "cell_type": "code",
   "execution_count": 46,
   "metadata": {},
   "outputs": [
    {
     "name": "stdout",
     "output_type": "stream",
     "text": [
      "[3, 21, 15, 5, 6, 10, 8, 21, 2, 21]\n"
     ]
    }
   ],
   "source": [
    "#2.Conduct binary tournament\n",
    "competed_result = []\n",
    "for pairs in compete_pairs:\n",
    "    if pairs[0] < pairs[1]:\n",
    "        competed_result.append(pairs[0])\n",
    "    else:\n",
    "        competed_result.append(pairs[1])\n",
    "        \n",
    "print(competed_result)"
   ]
  },
  {
   "cell_type": "code",
   "execution_count": 47,
   "metadata": {},
   "outputs": [
    {
     "name": "stdout",
     "output_type": "stream",
     "text": [
      "[3, 21, 15, 5, 6, 10, 8, 21, 2, 21, 4, 13, 8, 15, 6, 9, 17, 17, 12, 10]\n"
     ]
    }
   ],
   "source": [
    "#3. Perform mating,create children using simple averaging.\n",
    "for _ in range(pop_size//2):\n",
    "    parent = random.sample(competed_result,2)\n",
    "    alpha = np.random.uniform(0,1)\n",
    "    child = parent[0] * alpha + (1 - alpha) * parent[1]\n",
    "    competed_result.append(int(child))\n",
    "    \n",
    "pop = competed_result\n",
    "print(pop)\n"
   ]
  },
  {
   "cell_type": "code",
   "execution_count": 48,
   "metadata": {},
   "outputs": [
    {
     "name": "stdout",
     "output_type": "stream",
     "text": [
      "20\n"
     ]
    }
   ],
   "source": [
    "print(len(pop))"
   ]
  }
 ],
 "metadata": {
  "kernelspec": {
   "display_name": "Python 3.9.12 ('base')",
   "language": "python",
   "name": "python3"
  },
  "language_info": {
   "codemirror_mode": {
    "name": "ipython",
    "version": 3
   },
   "file_extension": ".py",
   "mimetype": "text/x-python",
   "name": "python",
   "nbconvert_exporter": "python",
   "pygments_lexer": "ipython3",
   "version": "3.9.12"
  },
  "orig_nbformat": 4,
  "vscode": {
   "interpreter": {
    "hash": "99b59deff7827a9d9c876a01001fad615b615040f915a980cea8ff96b4e320a5"
   }
  }
 },
 "nbformat": 4,
 "nbformat_minor": 2
}
