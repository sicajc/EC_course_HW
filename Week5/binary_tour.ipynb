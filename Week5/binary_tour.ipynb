{
 "cells": [
  {
   "cell_type": "code",
   "execution_count": 24,
   "metadata": {},
   "outputs": [],
   "source": [
    "from random import Random\n",
    "import random\n",
    "import matplotlib.pyplot as plt\n",
    "import numpy as np\n",
    "\n",
    "\n",
    "#A few useful constants\n",
    "#\n",
    "pop_size=20\n",
    "generations=10\n",
    "fit_range=40\n",
    "\n",
    "\n",
    "#Init the random number generator\n",
    "#\n",
    "prng=Random()\n",
    "prng.seed(123)\n",
    "\n",
    "\n",
    "#Let's suppose we have an imaginary problem that generates\n",
    "#integer fitness values on some fixed range.  We'll start by randomly\n",
    "#initializing a population of fitness values\n",
    "#\n",
    "pop = [prng.randrange(0,fit_range) for _ in range(pop_size)]\n"
   ]
  },
  {
   "cell_type": "code",
   "execution_count": 25,
   "metadata": {},
   "outputs": [
    {
     "name": "stdout",
     "output_type": "stream",
     "text": [
      "9\n",
      "[19, 10]\n",
      "-3\n",
      "[18, 21]\n",
      "0\n",
      "[34, 34]\n",
      "-2\n",
      "[1, 3]\n",
      "-1\n",
      "[20, 21]\n",
      "1\n",
      "[22, 21]\n",
      "[[19, 10], [8, 21], [35, 6], [18, 21], [24, 35], [26, 15], [34, 34], [1, 3], [20, 21], [22, 21]]\n"
     ]
    }
   ],
   "source": [
    "#Binary Tournament\n",
    "#1. Creating compete pairs\n",
    "\n",
    "compete_pairs = []\n",
    "for _ in range(pop_size//2):\n",
    "    mutate = random.randint(0,1)\n",
    "    \n",
    "    #Shuffle the list\n",
    "    random.shuffle(pop)\n",
    "    \n",
    "    #Extract two fitness from pop\n",
    "    x1 = pop.pop()\n",
    "    x2 = pop.pop()\n",
    "    \n",
    "    if mutate == 1:\n",
    "        pair = [x1,x2]\n",
    "        #Mutate\n",
    "        bias_range = min(fit_range - x1 , fit_range -x2,x1,x2)\n",
    "        bias = random.randint(-bias_range,bias_range)\n",
    "        print(bias)\n",
    "        #Randomly pick a fitness in pair for mutation or simply not mutating\n",
    "        not_picked_fitness = random.sample(pair,1)[0]\n",
    "        \n",
    "        pair.remove(not_picked_fitness)\n",
    "        picked_fitness = pair[0]\n",
    "        biased_fitness = picked_fitness + bias\n",
    "        \n",
    "        x1,x2 = biased_fitness,picked_fitness\n",
    "        print([x1,x2])\n",
    "        \n",
    "    #Recombine\n",
    "    compete_pairs.append([x1,x2])\n",
    "    \n",
    "print(compete_pairs)"
   ]
  },
  {
   "cell_type": "code",
   "execution_count": 16,
   "metadata": {},
   "outputs": [
    {
     "name": "stdout",
     "output_type": "stream",
     "text": [
      "[21, 5, 10, 34, 17, 35, 10, 2, 3, 8]\n"
     ]
    }
   ],
   "source": [
    "#2.Conduct binary tournament\n",
    "competed_result = []\n",
    "for pairs in compete_pairs:\n",
    "    if pairs[0] < pairs[1]:\n",
    "        competed_result.append(pairs[0])\n",
    "    else:\n",
    "        competed_result.append(pairs[1])\n",
    "        \n",
    "print(competed_result)"
   ]
  },
  {
   "cell_type": "code",
   "execution_count": 17,
   "metadata": {},
   "outputs": [
    {
     "name": "stdout",
     "output_type": "stream",
     "text": [
      "[21, 5, 10, 34, 17, 35, 10, 2, 3, 8, 10, 13, 17, 30, 22, 14, 10, 16, 10, 8]\n"
     ]
    }
   ],
   "source": [
    "#3. Perform mating,create children using simple averaging.\n",
    "for _ in range(pop_size//2):\n",
    "    parent = random.sample(competed_result,2)\n",
    "    alpha = np.random.uniform(0,1)\n",
    "    child = parent[0] * alpha + (1 - alpha) * parent[1]\n",
    "    competed_result.append(int(child))\n",
    "    \n",
    "pop = competed_result\n",
    "print(pop)\n"
   ]
  },
  {
   "cell_type": "code",
   "execution_count": null,
   "metadata": {},
   "outputs": [
    {
     "name": "stdout",
     "output_type": "stream",
     "text": [
      "20\n"
     ]
    }
   ],
   "source": [
    "print(len(pop))"
   ]
  }
 ],
 "metadata": {
  "kernelspec": {
   "display_name": "Python 3.9.12 ('base')",
   "language": "python",
   "name": "python3"
  },
  "language_info": {
   "codemirror_mode": {
    "name": "ipython",
    "version": 3
   },
   "file_extension": ".py",
   "mimetype": "text/x-python",
   "name": "python",
   "nbconvert_exporter": "python",
   "pygments_lexer": "ipython3",
   "version": "3.9.12"
  },
  "orig_nbformat": 4,
  "vscode": {
   "interpreter": {
    "hash": "99b59deff7827a9d9c876a01001fad615b615040f915a980cea8ff96b4e320a5"
   }
  }
 },
 "nbformat": 4,
 "nbformat_minor": 2
}
