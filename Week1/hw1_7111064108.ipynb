{
 "cells": [
  {
   "cell_type": "code",
   "execution_count": 29,
   "metadata": {},
   "outputs": [
    {
     "name": "stdout",
     "output_type": "stream",
     "text": [
      "['zebra', 'monkey', 'zerba']\n"
     ]
    }
   ],
   "source": [
    "filename = 'assn1_input.txt'\n",
    "file_text = []\n",
    "with open(filename,'r') as f:\n",
    "    for text in f:\n",
    "        file_text.append(text.rstrip('\\n'))\n",
    "         \n",
    "print(file_text[:3])"
   ]
  },
  {
   "cell_type": "code",
   "execution_count": 30,
   "metadata": {},
   "outputs": [
    {
     "name": "stdout",
     "output_type": "stream",
     "text": [
      "[14784, 10640, 1024]\n"
     ]
    }
   ],
   "source": [
    "integer_list = [int(text) for text in file_text if text.isdigit()]\n",
    "print(integer_list[:3])"
   ]
  },
  {
   "cell_type": "code",
   "execution_count": 31,
   "metadata": {},
   "outputs": [
    {
     "name": "stdout",
     "output_type": "stream",
     "text": [
      "[19501, 19499, 19473, 19316, 19311, 19154, 19131, 19093, 19080, 19025]\n"
     ]
    }
   ],
   "source": [
    "sorted_int_list = sorted(integer_list, reverse=True)\n",
    "print(sorted_int_list[:10])"
   ]
  },
  {
   "cell_type": "code",
   "execution_count": 32,
   "metadata": {},
   "outputs": [
    {
     "name": "stdout",
     "output_type": "stream",
     "text": [
      "The sum : 4511892\n",
      "ln of sum : 15.322227135703345\n",
      "1.53E+01\n"
     ]
    }
   ],
   "source": [
    "import math\n",
    "sum_of_int_list = sum(sorted_int_list)\n",
    "print(f'The sum : {sum_of_int_list}')\n",
    "ln_of_sum   = math.log(sum_of_int_list)\n",
    "print(f'ln of sum : {ln_of_sum}')\n",
    "ln_of_sum_sci_notation = format(ln_of_sum,'.2E')\n",
    "print(ln_of_sum_sci_notation)\n",
    "\n",
    "wb_list = [sum_of_int_list,ln_of_sum,ln_of_sum_sci_notation]\n",
    "wb_list = [str(i) for i in wb_list]"
   ]
  },
  {
   "cell_type": "code",
   "execution_count": 33,
   "metadata": {},
   "outputs": [
    {
     "name": "stdout",
     "output_type": "stream",
     "text": [
      "WB Done\n"
     ]
    }
   ],
   "source": [
    "#Write file to animals.out\n",
    "# open file in write mode\n",
    "with open(r'animals.out', 'w') as f:    \n",
    "    f.write(str(sorted_int_list))\n",
    "    f.write(\"\\n\")\n",
    "    f.write('\\n'.join(wb_list))\n",
    "    \n",
    "    print('WB Done')"
   ]
  },
  {
   "cell_type": "code",
   "execution_count": 34,
   "metadata": {},
   "outputs": [
    {
     "name": "stdout",
     "output_type": "stream",
     "text": [
      "Zerba exist in list? Ans:False\n"
     ]
    }
   ],
   "source": [
    "# Read in the file\n",
    "fixed_out = []\n",
    "with open(filename, 'r') as f:\n",
    "  for text in f:\n",
    "    fixed_out.append(text.replace(\"zerba\",\"zebra\").rstrip('\\n'))\n",
    "    \n",
    "text_to_check = 'zerba'\n",
    "print(f'Zerba exist in list? Ans:{text_to_check in fixed_out}')"
   ]
  },
  {
   "cell_type": "code",
   "execution_count": 35,
   "metadata": {},
   "outputs": [
    {
     "name": "stdout",
     "output_type": "stream",
     "text": [
      "WB Done\n"
     ]
    }
   ],
   "source": [
    "#Write file to fixed.out\n",
    "# open file in write mode\n",
    "with open(r'fixed.out', 'w') as f:\n",
    "    for item in fixed_out:\n",
    "        # write each item on a new line\n",
    "        f.write(\"%s\\n\" % item)\n",
    "    \n",
    "    print('WB Done')"
   ]
  },
  {
   "cell_type": "code",
   "execution_count": 36,
   "metadata": {},
   "outputs": [
    {
     "name": "stdout",
     "output_type": "stream",
     "text": [
      "[['zebra'], ['monkey'], ['zebra'], ['tomato'], ['zebra', 'zebra', 'zebra', 'zebra']]\n",
      "{'zebra': 7178, 'monkey': 7586, 'tomato': 1719, 'tiger': 6202, 'corn': 2031, 'carrot': 2668, 'dog': 3380}\n"
     ]
    }
   ],
   "source": [
    "splited_text = [text.split(\"%\") for text in fixed_out if not text.isdigit()]\n",
    "\n",
    "print(splited_text[:5])\n",
    "\n",
    "animals_out = {}\n",
    "\n",
    "for text in splited_text:\n",
    "    for animal in text:\n",
    "        if animal in animals_out:\n",
    "            animals_out[animal] += 1\n",
    "        else:\n",
    "            animals_out[animal] = 1\n",
    "\n",
    "print(animals_out)"
   ]
  },
  {
   "cell_type": "code",
   "execution_count": 37,
   "metadata": {},
   "outputs": [
    {
     "name": "stdout",
     "output_type": "stream",
     "text": [
      "[['zebra'], ['monkey'], ['zebra'], ['zebra', 'zebra', 'zebra', 'zebra'], ['tiger', 'tiger', 'tiger', 'tiger', 'tiger']]\n",
      "{'zebra': 7178, 'monkey': 7586, 'tiger': 6202, 'dog': 3380}\n"
     ]
    }
   ],
   "source": [
    "vegetable = ['corn','carrot','tomato']\n",
    "\n",
    "splited_text = [text.split(\"%\") for text in fixed_out if not text.isdigit() and all(item not in text for item in vegetable)]\n",
    "\n",
    "print(splited_text[:5])\n",
    "\n",
    "animals_out = {}\n",
    "\n",
    "for text in splited_text:\n",
    "    for animal in text:\n",
    "        if animal in animals_out:\n",
    "            animals_out[animal] += 1\n",
    "        else:\n",
    "            animals_out[animal] = 1\n",
    "\n",
    "print(animals_out)"
   ]
  },
  {
   "cell_type": "code",
   "execution_count": 38,
   "metadata": {},
   "outputs": [
    {
     "name": "stdout",
     "output_type": "stream",
     "text": [
      "{'total_count': 24346}\n"
     ]
    }
   ],
   "source": [
    "sum_of_animal = {'total_count': sum(animals_out.values())}\n",
    "print(sum_of_animal)"
   ]
  },
  {
   "cell_type": "code",
   "execution_count": 39,
   "metadata": {},
   "outputs": [
    {
     "name": "stdout",
     "output_type": "stream",
     "text": [
      "WB Done\n"
     ]
    }
   ],
   "source": [
    "import json\n",
    "#Write file to fixed.out\n",
    "# open file in write mode\n",
    "with open(r'animals.out', 'a+') as f:\n",
    "    # write each item on a new line\n",
    "    f.write('\\n' + json.dumps(animals_out))\n",
    "    f.write('\\n' + json.dumps(sum_of_animal))\n",
    "    \n",
    "    print('WB Done')"
   ]
  }
 ],
 "metadata": {
  "kernelspec": {
   "display_name": "Python 3.9.12 ('base')",
   "language": "python",
   "name": "python3"
  },
  "language_info": {
   "codemirror_mode": {
    "name": "ipython",
    "version": 3
   },
   "file_extension": ".py",
   "mimetype": "text/x-python",
   "name": "python",
   "nbconvert_exporter": "python",
   "pygments_lexer": "ipython3",
   "version": "3.9.12"
  },
  "orig_nbformat": 4,
  "vscode": {
   "interpreter": {
    "hash": "99b59deff7827a9d9c876a01001fad615b615040f915a980cea8ff96b4e320a5"
   }
  }
 },
 "nbformat": 4,
 "nbformat_minor": 2
}
