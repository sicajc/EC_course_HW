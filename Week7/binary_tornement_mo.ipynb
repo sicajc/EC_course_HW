{
 "cells": [
  {
   "cell_type": "markdown",
   "metadata": {},
   "source": [
    "## dominates"
   ]
  },
  {
   "cell_type": "code",
   "execution_count": 150,
   "metadata": {},
   "outputs": [],
   "source": [
    "from binary_tournament_mo_skel import *\n",
    "\n",
    "class testDominates(Individual):\n",
    "    def dominates(self, other):\n",
    "        \"\"\"\n",
    "        Multi-objective domination comparison between self and other\n",
    "          if self dominates other: return 1\n",
    "          elif other dominates self: return -1\n",
    "          else: non-domination return 0\n",
    "        \"\"\"\n",
    "        X_DOMINATES_Y = 1\n",
    "        NON_DOMINATION = 0\n",
    "        X_DOMINATED_BY_Y = -1\n",
    "        \n",
    "        #Check if dominates.\n",
    "        dominationFlag_current  = 0\n",
    "        dominationFlag_previous = 0\n",
    "        for idx,item in enumerate(self.state):\n",
    "            dominationFlag_previous = dominationFlag_current\n",
    "            \n",
    "            if item > other.state[idx]:\n",
    "                dominationFlag_current = X_DOMINATED_BY_Y\n",
    "            elif item < other.state[idx]:\n",
    "                dominationFlag_current = X_DOMINATES_Y\n",
    "            else:\n",
    "                dominationFlag_current = dominationFlag_current\n",
    "            \n",
    "            if dominationFlag_previous != NON_DOMINATION and dominationFlag_current != dominationFlag_previous:\n",
    "                return NON_DOMINATION\n",
    "            \n",
    "        return dominationFlag_current"
   ]
  },
  {
   "cell_type": "code",
   "execution_count": 151,
   "metadata": {},
   "outputs": [
    {
     "name": "stdout",
     "output_type": "stream",
     "text": [
      "Domination check1:0\n",
      "Domination check2:1\n",
      "Domination check3:-1\n",
      "Domination check4:0\n",
      "Domination check5:-1\n",
      "Domination check6:-1\n",
      "Domination check7:1\n"
     ]
    }
   ],
   "source": [
    "xState = [2,1]\n",
    "yState = [2,1]\n",
    "\n",
    "x = testDominates(state = xState)\n",
    "y = testDominates(state = yState)\n",
    "\n",
    "\n",
    "print(f\"Domination check1:{x.dominates(y)}\")\n",
    "\n",
    "zState = [3,7]\n",
    "z = testDominates(state = zState)\n",
    "print(f\"Domination check2:{x.dominates(z)}\")\n",
    "\n",
    "zStateNew = [1,0]\n",
    "z.state = zStateNew\n",
    "print(f\"Domination check3:{x.dominates(z)}\")\n",
    "\n",
    "#Non-domination\n",
    "zStateNew = [1,7]\n",
    "z.state = zStateNew\n",
    "print(f\"Domination check4:{x.dominates(z)}\")\n",
    "\n",
    "#Non-Trivial Case, should be z dominates\n",
    "xStateNew = [2,1,4]\n",
    "zStateNew = [2,1,1]\n",
    "x.state = xStateNew\n",
    "z.state = zStateNew\n",
    "print(f\"Domination check5:{x.dominates(z)}\")\n",
    "\n",
    "#Non-Trivial Case, should be x dominates\n",
    "xStateNew = [0.7733822822904126, 4.8329365427122175]\n",
    "zStateNew = [0.6833347494625214, 3.0870252374890295]\n",
    "x.state = xStateNew\n",
    "z.state = zStateNew\n",
    "print(f\"Domination check6:{x.dominates(z)}\")\n",
    "\n",
    "#Non-Trivial Case, should be Non-domination\n",
    "xStateNew = [0.6833347494625214, 3.0870252374890295]\n",
    "zStateNew = [0.8400439702669426, 3.9478685901211836]\n",
    "x.state = xStateNew\n",
    "z.state = zStateNew\n",
    "print(f\"Domination check7:{x.dominates(z)}\")\n",
    "\n"
   ]
  },
  {
   "cell_type": "markdown",
   "metadata": {},
   "source": [
    "## CompareRankAndCrowding"
   ]
  },
  {
   "cell_type": "code",
   "execution_count": 152,
   "metadata": {},
   "outputs": [],
   "source": [
    "\n",
    "class testcompareRankandCrowding(testDominates):\n",
    "    def compareRankAndCrowding(self, other):\n",
    "        \"\"\"\"\n",
    "        Compare two individuals using frontRank and crowding distance metric, prefer div\n",
    "        larger the better.\n",
    "        Note: Compare by front-rank first. If front-ranks are equal, then compare using\n",
    "        using crowding metric.\n",
    "        if self better than other: return 1\n",
    "        elif self worse than other: return -1\n",
    "        else: return 0\n",
    "        \"\"\"\n",
    "        compareRankFlag = 0\n",
    "        if self.frontRank < other.frontRank:\n",
    "            return 1\n",
    "        elif self.frontRank > other.frontRank:\n",
    "            return -1\n",
    "        else:\n",
    "            #Crowding metrics since we want diversity.\n",
    "            #Distance larger the better\n",
    "            if self.crowdDist > other.crowdDist:\n",
    "                return 1\n",
    "            elif self.crowdDist < other.crowdDist:\n",
    "                return -1\n",
    "            else:\n",
    "                return 0 \n",
    "                "
   ]
  },
  {
   "cell_type": "code",
   "execution_count": 153,
   "metadata": {},
   "outputs": [
    {
     "name": "stdout",
     "output_type": "stream",
     "text": [
      "0\n"
     ]
    }
   ],
   "source": [
    "xRank = 4\n",
    "yRank = 4\n",
    "xCrowdDist = 2\n",
    "yCrowdDist = 2\n",
    "x = testcompareRankandCrowding(frontRank=xRank,crowdDist=xCrowdDist)\n",
    "y = testcompareRankandCrowding(frontRank=yRank,crowdDist=yCrowdDist)\n",
    "\n",
    "print(x.compareRankAndCrowding(y))\n",
    "\n"
   ]
  },
  {
   "cell_type": "markdown",
   "metadata": {},
   "source": [
    "# Population Compute frontRank"
   ]
  },
  {
   "cell_type": "code",
   "execution_count": 154,
   "metadata": {},
   "outputs": [],
   "source": [
    "def printINFO(population):\n",
    "\n",
    "    print(\"--------------------------------[INFO]---------------------------------------------------\")\n",
    "\n",
    "    for individual in population.pop:\n",
    "\n",
    "        print(f\"Individual has: {individual.state} with FrontRank:{individual.frontRank}\")    \n",
    "\n"
   ]
  },
  {
   "cell_type": "code",
   "execution_count": 155,
   "metadata": {},
   "outputs": [],
   "source": [
    "class testComputeFrontRank(Population):\n",
    "    def computeFrontRanks(self):\n",
    "        \"\"\"\n",
    "        Compute non-dominated front ranks using NSGA-II front-ranking scheme\n",
    "        NSGA-II front-ranking scheme:\n",
    "                Assign front rank for every Individual in POP\n",
    "        \"\"\"\n",
    "        X_DOMINATES_Y = 1\n",
    "        NON_DOMINATION = 0\n",
    "        X_DOMINATED_BY_Y = -1\n",
    "        \n",
    "        newPop = []\n",
    "        pop = self.pop\n",
    "        frontRankCnt = 1\n",
    "        \n",
    "        while pop:\n",
    "            #Keep doing until pop goes empty            \n",
    "            front = [pop[0]]\n",
    "            \n",
    "            #Find the Pareto Front list\n",
    "            for individual in pop:\n",
    "                for idx,frontIndividual in enumerate (front):\n",
    "                    \n",
    "                    if frontIndividual.dominates(individual)   == X_DOMINATES_Y:\n",
    "                        if individual in front:\n",
    "                            front.remove(individual)\n",
    "                    \n",
    "                    elif frontIndividual.dominates(individual) == X_DOMINATED_BY_Y:\n",
    "                        front.remove(frontIndividual)\n",
    "                        \n",
    "                        if individual not in front:\n",
    "                            front.append(individual)\n",
    "                    \n",
    "                    elif frontIndividual.dominates(individual) == NON_DOMINATION:\n",
    "                        if individual not in front:\n",
    "                            front.append(individual)\n",
    "                \n",
    "                # for fronts in front:\n",
    "                    # print(f\"{fronts.state}\")\n",
    "                # \n",
    "                # print(\"------------\")\n",
    "                \n",
    "            \n",
    "            #From front assign the ranking value to pop\n",
    "            for frontIndividual in front:\n",
    "                frontIndividual.frontRank = frontRankCnt\n",
    "                \n",
    "                if frontIndividual not in newPop:\n",
    "                    newPop.append(frontIndividual)\n",
    "                \n",
    "                pop.remove(frontIndividual)\n",
    "                \n",
    "            frontRankCnt += 1\n",
    "            \n",
    "        self.pop = newPop\n",
    "        "
   ]
  },
  {
   "cell_type": "markdown",
   "metadata": {},
   "source": [
    "## Test ComputeFrontRank\n"
   ]
  },
  {
   "cell_type": "code",
   "execution_count": 156,
   "metadata": {},
   "outputs": [],
   "source": [
    "def minExInitializerTest(popSize,prng):\n",
    "    #x1, x2 range limits\n",
    "    x1_min=0.1\n",
    "    x1_max=1.0\n",
    "    x2_min=0.0\n",
    "    x2_max=5.0\n",
    "    #generate random population of Individuals\n",
    "    # based on MinEx benchmark\n",
    "    population=[]\n",
    "    i=0\n",
    "    while i < popSize:\n",
    "        x1=prng.uniform(x1_min,x1_max)\n",
    "        x2=prng.uniform(x2_min,x2_max)\n",
    "        obj1=x1\n",
    "        obj2=(1+x2)/x1\n",
    "        population.append(testcompareRankandCrowding([x1,x2], [obj1,obj2]))\n",
    "        i+=1\n",
    "    return population\n"
   ]
  },
  {
   "cell_type": "code",
   "execution_count": 157,
   "metadata": {},
   "outputs": [
    {
     "name": "stdout",
     "output_type": "stream",
     "text": [
      "--------------------------------[INFO]---------------------------------------------------\n",
      "Individual has: [0.7733822822904126, 4.8329365427122175] with FrontRank:None\n",
      "Individual has: [0.4916883897151668, 3.971498902496217] with FrontRank:None\n",
      "Individual has: [0.6833347494625214, 3.0870252374890295] with FrontRank:None\n",
      "Individual has: [0.8400439702669426, 3.9478685901211836] with FrontRank:None\n",
      "Individual has: [0.897832808715531, 1.6322445679051534] with FrontRank:None\n",
      "Individual has: [0.9879261149141814, 0.5746088580927078] with FrontRank:None\n",
      "Individual has: [0.5307432593866855, 2.3372173697580307] with FrontRank:None\n",
      "Individual has: [0.33680835244373514, 0.6329469453583081] with FrontRank:None\n",
      "Individual has: [0.26655746666688385, 1.9523119179750492] with FrontRank:None\n",
      "Individual has: [0.5688309353215479, 3.9279756895830014] with FrontRank:None\n"
     ]
    }
   ],
   "source": [
    "from random import Random\n",
    "POP_SIZE = 10\n",
    "\n",
    "popSize=500\n",
    "numGenerations=10\n",
    "prng=Random()\n",
    "prng.seed(456)\n",
    "\n",
    "pop1 = minExInitializerTest(popSize=POP_SIZE,prng = prng)\n",
    "\n",
    "pop = testComputeFrontRank(pop = pop1)\n",
    "\n",
    "def printINFO(population):\n",
    "    print(\"--------------------------------[INFO]---------------------------------------------------\")\n",
    "    for individual in population.pop:\n",
    "        print(f\"Individual has: {individual.state} with FrontRank:{individual.frontRank}\")    \n",
    "\n",
    "printINFO(pop)\n"
   ]
  },
  {
   "cell_type": "code",
   "execution_count": 158,
   "metadata": {},
   "outputs": [
    {
     "name": "stdout",
     "output_type": "stream",
     "text": [
      "--------------------------------[INFO]---------------------------------------------------\n",
      "Individual has: [0.897832808715531, 1.6322445679051534] with FrontRank:1\n",
      "Individual has: [0.9879261149141814, 0.5746088580927078] with FrontRank:1\n",
      "Individual has: [0.33680835244373514, 0.6329469453583081] with FrontRank:1\n",
      "Individual has: [0.26655746666688385, 1.9523119179750492] with FrontRank:1\n",
      "Individual has: [0.4916883897151668, 3.971498902496217] with FrontRank:2\n",
      "Individual has: [0.5307432593866855, 2.3372173697580307] with FrontRank:2\n",
      "Individual has: [0.6833347494625214, 3.0870252374890295] with FrontRank:3\n",
      "Individual has: [0.5688309353215479, 3.9279756895830014] with FrontRank:3\n",
      "Individual has: [0.7733822822904126, 4.8329365427122175] with FrontRank:4\n",
      "Individual has: [0.8400439702669426, 3.9478685901211836] with FrontRank:4\n"
     ]
    }
   ],
   "source": [
    "pop.computeFrontRanks()\n",
    "printINFO(pop)"
   ]
  },
  {
   "cell_type": "markdown",
   "metadata": {},
   "source": [
    "# Binary Tournament Method"
   ]
  },
  {
   "cell_type": "code",
   "execution_count": 159,
   "metadata": {},
   "outputs": [],
   "source": [
    "class testbinaryTournament(testComputeFrontRank):\n",
    "    def binaryTournament(self, prng):\n",
    "        \"\"\"\n",
    "        Multi-objective binary tournament operator based on non-domination front-ranking scheme.\n",
    "        Input Parameters:\n",
    "        prng: Random number generator (i.e., random.Random object)\n",
    "        Note: Similar to single-objective implementation,\n",
    "          - Tournament pairs should be randomly selected\n",
    "          - All individuals from initial pop should participate in exactly 2 tournaments\n",
    "        \"\"\"\n",
    "        # binary tournament\n",
    "        indexList1=list(range(len(self.pop)))\n",
    "        indexList2=list(range(len(self.pop)))\n",
    "        prng.shuffle(indexList1)\n",
    "        prng.shuffle(indexList2)\n",
    "        # do not allow pop competition\n",
    "        for i in range(len(self.pop)):\n",
    "            if indexList1[i] == indexList2[i]:\n",
    "                temp=indexList2[i]\n",
    "                if i == 0:\n",
    "                    indexList2[i]=indexList2[-1]\n",
    "                    indexList2[-1]=temp\n",
    "                else:\n",
    "                    indexList2[i]=indexList2[i-1]\n",
    "                    indexList2[i-1]=temp\n",
    "        #compete\n",
    "        newPop=[]\n",
    "        for index1,index2 in zip(indexList1,indexList2):\n",
    "           if self.pop[index1].frontRank < self.pop[index2].frontRank:\n",
    "               newPop.append(copy.deepcopy(self.pop[index1]))\n",
    "           elif self.pop[index1].frontRank > self.pop[index2].frontRank:\n",
    "               newPop.append(copy.deepcopy(self.pop[index2]))\n",
    "           else:\n",
    "               rn= prng.random()\n",
    "               if rn > 0.5:\n",
    "                   newPop.append(copy.deepcopy(self.pop[index1]))\n",
    "               else:\n",
    "                   newPop.append(copy.deepcopy(self.pop[index2]))\n",
    "                   \n",
    "        # overwrite old pop with newPop\n",
    "        self.pop=newPop\n"
   ]
  },
  {
   "cell_type": "code",
   "execution_count": 160,
   "metadata": {},
   "outputs": [
    {
     "name": "stdout",
     "output_type": "stream",
     "text": [
      "--------------------------------[INFO]---------------------------------------------------\n",
      "Individual has: [0.7396098003872399, 4.678576166033787] with FrontRank:None\n",
      "Individual has: [0.6218340471082628, 3.4916665284025896] with FrontRank:None\n",
      "Individual has: [0.9627389701456113, 4.065143366895537] with FrontRank:None\n",
      "Individual has: [0.16664506580535132, 2.665747405351623] with FrontRank:None\n",
      "Individual has: [0.4266431543883523, 4.929818387671791] with FrontRank:None\n",
      "Individual has: [0.7522545276564475, 3.2332280972341003] with FrontRank:None\n",
      "Individual has: [0.8842449410007605, 1.0023597387351946] with FrontRank:None\n",
      "Individual has: [0.8180937238613244, 0.6452579509351913] with FrontRank:None\n",
      "Individual has: [0.5018195742483234, 3.4174012257470476] with FrontRank:None\n",
      "Individual has: [0.43357951779331283, 4.325844236558557] with FrontRank:None\n"
     ]
    }
   ],
   "source": [
    "pop1 = minExInitializerTest(popSize=POP_SIZE,prng = prng)\n",
    "pop = testbinaryTournament(pop = pop1)\n",
    "\n",
    "printINFO(pop)\n"
   ]
  },
  {
   "cell_type": "code",
   "execution_count": 161,
   "metadata": {},
   "outputs": [
    {
     "name": "stdout",
     "output_type": "stream",
     "text": [
      "--------------------------------[INFO]---------------------------------------------------\n",
      "Individual has: [0.16664506580535132, 2.665747405351623] with FrontRank:1\n",
      "Individual has: [0.8180937238613244, 0.6452579509351913] with FrontRank:1\n",
      "Individual has: [0.5018195742483234, 3.4174012257470476] with FrontRank:1\n",
      "Individual has: [0.43357951779331283, 4.325844236558557] with FrontRank:1\n",
      "Individual has: [0.6218340471082628, 3.4916665284025896] with FrontRank:2\n",
      "Individual has: [0.4266431543883523, 4.929818387671791] with FrontRank:2\n",
      "Individual has: [0.7522545276564475, 3.2332280972341003] with FrontRank:2\n",
      "Individual has: [0.8842449410007605, 1.0023597387351946] with FrontRank:2\n",
      "Individual has: [0.7396098003872399, 4.678576166033787] with FrontRank:3\n",
      "Individual has: [0.9627389701456113, 4.065143366895537] with FrontRank:3\n"
     ]
    }
   ],
   "source": [
    "pop.computeFrontRanks()\n",
    "printINFO(pop)"
   ]
  },
  {
   "cell_type": "code",
   "execution_count": 162,
   "metadata": {},
   "outputs": [
    {
     "name": "stdout",
     "output_type": "stream",
     "text": [
      "--------------------------------[INFO]---------------------------------------------------\n",
      "Individual has: [0.7522545276564475, 3.2332280972341003] with FrontRank:2\n",
      "Individual has: [0.5018195742483234, 3.4174012257470476] with FrontRank:1\n",
      "Individual has: [0.8180937238613244, 0.6452579509351913] with FrontRank:1\n",
      "Individual has: [0.16664506580535132, 2.665747405351623] with FrontRank:1\n",
      "Individual has: [0.43357951779331283, 4.325844236558557] with FrontRank:1\n",
      "Individual has: [0.8180937238613244, 0.6452579509351913] with FrontRank:1\n",
      "Individual has: [0.43357951779331283, 4.325844236558557] with FrontRank:1\n",
      "Individual has: [0.5018195742483234, 3.4174012257470476] with FrontRank:1\n",
      "Individual has: [0.8842449410007605, 1.0023597387351946] with FrontRank:2\n",
      "Individual has: [0.4266431543883523, 4.929818387671791] with FrontRank:2\n"
     ]
    }
   ],
   "source": [
    "pop.binaryTournament(prng)\n",
    "printINFO(pop)"
   ]
  },
  {
   "cell_type": "code",
   "execution_count": 163,
   "metadata": {},
   "outputs": [
    {
     "name": "stdout",
     "output_type": "stream",
     "text": [
      "--------------------------------[INFO]---------------------------------------------------\n",
      "Individual has: [0.16664506580535132, 2.665747405351623] with FrontRank:1\n",
      "Individual has: [0.5018195742483234, 3.4174012257470476] with FrontRank:1\n",
      "Individual has: [0.43357951779331283, 4.325844236558557] with FrontRank:1\n",
      "Individual has: [0.5018195742483234, 3.4174012257470476] with FrontRank:1\n",
      "Individual has: [0.16664506580535132, 2.665747405351623] with FrontRank:1\n",
      "Individual has: [0.43357951779331283, 4.325844236558557] with FrontRank:1\n",
      "Individual has: [0.43357951779331283, 4.325844236558557] with FrontRank:1\n",
      "Individual has: [0.5018195742483234, 3.4174012257470476] with FrontRank:1\n",
      "Individual has: [0.43357951779331283, 4.325844236558557] with FrontRank:1\n",
      "Individual has: [0.43357951779331283, 4.325844236558557] with FrontRank:1\n"
     ]
    }
   ],
   "source": [
    "generations = 10\n",
    "for _ in range(generations):\n",
    "    pop.binaryTournament(prng)\n",
    "    \n",
    "printINFO(pop)"
   ]
  }
 ],
 "metadata": {
  "kernelspec": {
   "display_name": "Python 3.9.12 ('base')",
   "language": "python",
   "name": "python3"
  },
  "language_info": {
   "codemirror_mode": {
    "name": "ipython",
    "version": 3
   },
   "file_extension": ".py",
   "mimetype": "text/x-python",
   "name": "python",
   "nbconvert_exporter": "python",
   "pygments_lexer": "ipython3",
   "version": "3.9.12"
  },
  "orig_nbformat": 4,
  "vscode": {
   "interpreter": {
    "hash": "99b59deff7827a9d9c876a01001fad615b615040f915a980cea8ff96b4e320a5"
   }
  }
 },
 "nbformat": 4,
 "nbformat_minor": 2
}
