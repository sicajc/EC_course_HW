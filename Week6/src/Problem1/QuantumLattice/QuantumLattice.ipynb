{
 "cells": [
  {
   "cell_type": "code",
   "execution_count": 169,
   "metadata": {},
   "outputs": [],
   "source": [
    "#\n",
    "# Individual.py\n",
    "#\n",
    "#\n",
    "\n",
    "import math\n",
    "import numpy as np\n",
    "import random\n",
    "#A simple 1-D Individual class\n",
    "class Individual:\n",
    "    \"\"\"\n",
    "    Individual\n",
    "    \"\"\"\n",
    "    minSigma=1e-100\n",
    "    maxSigma=1\n",
    "    learningRate=1\n",
    "    numParticleType = 2\n",
    "    latticeLength = 3\n",
    "    minLimit=None\n",
    "    maxLimit=None\n",
    "    uniprng=None\n",
    "    normprng=None\n",
    "    fitFunc=None\n",
    "\n",
    "    def __init__(self,latticeLength,numParticleType):\n",
    "        #lattice full of quantum\n",
    "        self.latticeLength = latticeLength\n",
    "        self.numParticleType = numParticleType\n",
    "        #self.fit=self.__class__.fitFunc(self.x)\n",
    "        self.sigma=random.uniform(0.9,0.1) #use \"normalized\" sigma\n",
    "        self.lattice=[random.randrange(0,self.numParticleType) for _ in range(self.latticeLength)]\n",
    "        self.energy = 0\n",
    "            \n",
    "    def crossover(self, other):\n",
    "        child = Individual(latticeLength=self.latticeLength,numParticleType=self.numParticleType)\n",
    "        \n",
    "        #perform crossover \"in-place\"\n",
    "        alpha= random.uniform(0,1)\n",
    "        \n",
    "        #Portion of each lattice\n",
    "        l1_length = int(self.latticeLength*alpha)\n",
    "        l2_length = self.latticeLength - l1_length\n",
    "        \n",
    "        #Portion of self piece and other piece needed for crossOver\n",
    "        #Piece them together Creating new child\n",
    "        s1 = random.sample(self.lattice,l1_length)\n",
    "        s2 = random.sample(self.lattice,l2_length)\n",
    "        childLattice = s1 + s2\n",
    "\n",
    "        child.lattice = childLattice\n",
    "        \n",
    "        return child\n",
    "        \n",
    "    def mutate(self):\n",
    "        #Mutate by Randomly changing the type of particles in lattice\n",
    "        \n",
    "        #Mutation param, determines how many quantums needed to be changed.\n",
    "        self.sigma=self.sigma*math.exp(self.learningRate*random.normalvariate(0,1))\n",
    "        if self.sigma < self.minSigma: self.sigma=self.minSigma\n",
    "        if self.sigma > self.maxSigma: self.sigma=self.maxSigma\n",
    "        NumOfMutateParticles = random.randrange(0,int(self.sigma*self.latticeLength)+1)\n",
    "\n",
    "        #Mutation by changing the quantum types within a lattice\n",
    "        for _ in range(NumOfMutateParticles):\n",
    "            random.shuffle(self.lattice)\n",
    "            self.lattice.pop()\n",
    "            self.lattice.append(random.randrange(0,self.numParticleType))            \n",
    "            \n",
    "    def evaluateFitness(self):\n",
    "        #Calculate the total energy of this sequence.\n",
    "        if self.fit == None: self.fit=self.__class__.fitFunc(self.x)\n",
    "        \n",
    "    def __str__(self):\n",
    "        print(f\"Lattice is : {self.lattice}\")\n",
    "        return 'LatticeLength:'+ '%d'%self.latticeLength + '\\nNumOfParticleTypes: '+ '%d'%self.numParticleType + '\\nSigma = ' + '%0.8e'%self.sigma\n"
   ]
  },
  {
   "cell_type": "code",
   "execution_count": 170,
   "metadata": {},
   "outputs": [
    {
     "name": "stdout",
     "output_type": "stream",
     "text": [
      "Lattice is : [1, 0, 0]\n",
      "Entity1:\n",
      "LatticeLength:3\n",
      "NumOfParticleTypes: 2\n",
      "Sigma = 5.27987134e-01\n",
      "Lattice is : [0, 0, 0]\n",
      "Entity2:\n",
      "LatticeLength:3\n",
      "NumOfParticleTypes: 2\n",
      "Sigma = 3.06933378e-01\n"
     ]
    }
   ],
   "source": [
    "#Set Basic parameter for test\n",
    "u = [1,2]\n",
    "N = 3\n",
    "t = [[3,5],[5,3]]\n",
    "M = 2\n",
    "\n",
    "entity1 = Individual(latticeLength = N,numParticleType = M)\n",
    "entity2 = Individual(latticeLength = N,numParticleType = M)\n",
    "\n",
    "print(f\"Entity1:\\n{entity1}\")\n",
    "print(f\"Entity2:\\n{entity2}\")"
   ]
  },
  {
   "cell_type": "code",
   "execution_count": 171,
   "metadata": {},
   "outputs": [
    {
     "name": "stdout",
     "output_type": "stream",
     "text": [
      "Lattice is : [1, 0, 0]\n",
      "Generated child: \n",
      " LatticeLength:3\n",
      "NumOfParticleTypes: 2\n",
      "Sigma = 8.57106628e-01\n"
     ]
    }
   ],
   "source": [
    "#Testing crossOver\n",
    "child = entity1.crossover(entity2)\n",
    "\n",
    "print(f\"Generated child: \\n {child}\")"
   ]
  },
  {
   "cell_type": "code",
   "execution_count": 172,
   "metadata": {},
   "outputs": [
    {
     "name": "stdout",
     "output_type": "stream",
     "text": [
      "Lattice is : [0, 1, 0]\n",
      "Mutated Child :\n",
      " LatticeLength:3\n",
      "NumOfParticleTypes: 2\n",
      "Sigma = 8.43899345e-01\n"
     ]
    }
   ],
   "source": [
    "#Testing mutation\n",
    "child.mutate()\n",
    "print(f\"Mutated Child :\\n {child}\")"
   ]
  },
  {
   "cell_type": "code",
   "execution_count": 173,
   "metadata": {},
   "outputs": [],
   "source": [
    "#Finding total energy of lattice\n",
    "def energyFunc(lattice,interactionMatrix,selfEnergyVector):\n",
    "    totalEnergy = 0\n",
    "        \n",
    "    #Energy by self-energy\n",
    "    for quantum in lattice:\n",
    "        #print(f\"Type extracted : {type(selfEnergyVector[quantum])} of value : {selfEnergyVector[quantum]}\")\n",
    "        totalEnergy += selfEnergyVector[quantum]\n",
    "    \n",
    "    #print(f\"total energy after self-energy:{totalEnergy}\")\n",
    "    #Energy by interaction\n",
    "    for quantum in lattice:\n",
    "        for interact_quantum in lattice:\n",
    "            totalEnergy += interactionMatrix[quantum][interact_quantum]\n",
    "    \n",
    "    #print(f\"Energy after interation:{totalEnergy}\")\n",
    "    return totalEnergy\n",
    "    "
   ]
  },
  {
   "cell_type": "code",
   "execution_count": 174,
   "metadata": {},
   "outputs": [
    {
     "name": "stdout",
     "output_type": "stream",
     "text": [
      "Energy interaction Matrix: [[3, 5], [5, 3]]\n",
      "Self Energy Vector: [1, 2]\n",
      "Lattice is : [0, 1, 0]\n",
      "LatticeLength:3\n",
      "NumOfParticleTypes: 2\n",
      "Sigma = 8.43899345e-01\n"
     ]
    }
   ],
   "source": [
    "print(f\"Energy interaction Matrix: {t}\")\n",
    "print(f\"Self Energy Vector: {u}\")\n",
    "\n",
    "total_energy = energyFunc(child.lattice,t,u)\n",
    "print(child)"
   ]
  },
  {
   "cell_type": "code",
   "execution_count": 181,
   "metadata": {},
   "outputs": [],
   "source": [
    "#\n",
    "# QuantumLattice.py\n",
    "#\n",
    "#\n",
    "\n",
    "import math\n",
    "import numpy as np\n",
    "import random\n",
    "#A simple 1-D QuantumLattice class\n",
    "class QuantumLattice:\n",
    "    \"\"\"\n",
    "    QuantumLattice\n",
    "    \"\"\"\n",
    "    minSigma=1e-100\n",
    "    maxSigma=1\n",
    "    learningRate=1\n",
    "    numParticleType = 2\n",
    "    latticeLength = 3\n",
    "    minLimit=None\n",
    "    maxLimit=None\n",
    "    uniprng=None\n",
    "    normprng=None\n",
    "    fitFunc=None\n",
    "\n",
    "    def __init__(self,latticeLength,numParticleType):\n",
    "        #lattice full of quantum\n",
    "        self.latticeLength = latticeLength\n",
    "        self.numParticleType = numParticleType\n",
    "        #self.fit=self.__class__.fitFunc(self.x)\n",
    "        self.sigma=random.uniform(0.9,0.1) #use \"normalized\" sigma\n",
    "        self.lattice=[random.randrange(0,self.numParticleType) for _ in range(self.latticeLength)]\n",
    "        self.energy = 0\n",
    "            \n",
    "    def crossover(self, other):\n",
    "        child = QuantumLattice(latticeLength=self.latticeLength,numParticleType=self.numParticleType)\n",
    "        \n",
    "        #perform crossover \"in-place\"\n",
    "        alpha= random.uniform(0,1)\n",
    "        \n",
    "        #Portion of each lattice\n",
    "        l1_length = int(self.latticeLength*alpha)\n",
    "        l2_length = self.latticeLength - l1_length\n",
    "        \n",
    "        #Portion of self piece and other piece needed for crossOver\n",
    "        #Piece them together Creating new child\n",
    "        s1 = random.sample(self.lattice,l1_length)\n",
    "        s2 = random.sample(self.lattice,l2_length)\n",
    "        childLattice = s1 + s2\n",
    "\n",
    "        child.lattice = childLattice\n",
    "        \n",
    "        return child\n",
    "        \n",
    "    def mutate(self):\n",
    "        #Mutate by Randomly changing the type of particles in lattice\n",
    "        \n",
    "        #Mutation param, determines how many quantums needed to be changed.\n",
    "        self.sigma=self.sigma*math.exp(self.learningRate*random.normalvariate(0,1))\n",
    "        if self.sigma < self.minSigma: self.sigma=self.minSigma\n",
    "        if self.sigma > self.maxSigma: self.sigma=self.maxSigma\n",
    "        NumOfMutateParticles = random.randrange(0,int(self.sigma*self.latticeLength)+1)\n",
    "\n",
    "        #Mutation by changing the quantum types within a lattice\n",
    "        for _ in range(NumOfMutateParticles):\n",
    "            random.shuffle(self.lattice)\n",
    "            self.lattice.pop()\n",
    "            self.lattice.append(random.randrange(0,self.numParticleType))            \n",
    "            \n",
    "    def evaluateFitness(self,selfEnergyVector,interactionEnergyMatrix):\n",
    "        #Calculate the total energy of this sequence.\n",
    "        self.energy = energyFunc(self.lattice,\n",
    "                                 selfEnergyVector=selfEnergyVector,\n",
    "                                 interactionMatrix=interactionEnergyMatrix)\n",
    "                \n",
    "    def __str__(self):\n",
    "        print(\"---------------------------------\\nChild's INFO:\")\n",
    "        print(f\"Lattice is : {self.lattice}\")\n",
    "        print(f\"Total energy:{self.energy}\")\n",
    "        return 'LatticeLength:'+ '%d'%self.latticeLength + '\\nNumOfParticleTypes: '+ '%d'%self.numParticleType + '\\nSigma = ' + '%0.8e'%self.sigma\n"
   ]
  },
  {
   "cell_type": "code",
   "execution_count": 185,
   "metadata": {},
   "outputs": [
    {
     "name": "stdout",
     "output_type": "stream",
     "text": [
      "---------------------------------\n",
      "Child's INFO:\n",
      "Lattice is : [0, 1, 1]\n",
      "Total energy:40\n",
      "LatticeLength:3\n",
      "NumOfParticleTypes: 2\n",
      "Sigma = 2.18601678e-01\n"
     ]
    }
   ],
   "source": [
    "#Set Basic parameter for test\n",
    "u = [1,2]\n",
    "N = 3\n",
    "t = [[3,5],[5,3]]\n",
    "M = 2\n",
    "\n",
    "entity1 = QuantumLattice(latticeLength = N,numParticleType = M)\n",
    "entity2 = QuantumLattice(latticeLength = N,numParticleType = M)\n",
    "\n",
    "child = entity1.crossover(entity2)\n",
    "\n",
    "child.mutate()\n",
    "\n",
    "child.evaluateFitness(selfEnergyVector = u,interactionEnergyMatrix= t)\n",
    "print(child)"
   ]
  },
  {
   "cell_type": "code",
   "execution_count": 186,
   "metadata": {},
   "outputs": [
    {
     "name": "stdout",
     "output_type": "stream",
     "text": [
      "---------------------------------\n",
      "Child's INFO:\n",
      "Lattice is : [1, 2, 1, 1, 0, 1, 2, 2, 1, 1, 2]\n",
      "Total energy:851\n",
      "LatticeLength:11\n",
      "NumOfParticleTypes: 3\n",
      "Sigma = 2.42048037e-01\n"
     ]
    }
   ],
   "source": [
    "#Set Basic parameter for test\n",
    "u = [1,2,3]\n",
    "N = 11\n",
    "t = [[10,4,1],[4,10,5],[1,5,10]]\n",
    "M = 3\n",
    "\n",
    "entity1 = QuantumLattice(latticeLength = N,numParticleType = M)\n",
    "entity2 = QuantumLattice(latticeLength = N,numParticleType = M)\n",
    "\n",
    "child = entity1.crossover(entity2)\n",
    "\n",
    "child.mutate()\n",
    "\n",
    "child.evaluateFitness(selfEnergyVector = u,interactionEnergyMatrix= t)\n",
    "print(child)"
   ]
  }
 ],
 "metadata": {
  "kernelspec": {
   "display_name": "Python 3.9.12 ('base')",
   "language": "python",
   "name": "python3"
  },
  "language_info": {
   "codemirror_mode": {
    "name": "ipython",
    "version": 3
   },
   "file_extension": ".py",
   "mimetype": "text/x-python",
   "name": "python",
   "nbconvert_exporter": "python",
   "pygments_lexer": "ipython3",
   "version": "3.9.12"
  },
  "orig_nbformat": 4,
  "vscode": {
   "interpreter": {
    "hash": "99b59deff7827a9d9c876a01001fad615b615040f915a980cea8ff96b4e320a5"
   }
  }
 },
 "nbformat": 4,
 "nbformat_minor": 2
}
