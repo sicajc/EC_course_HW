{
 "cells": [
  {
   "cell_type": "code",
   "execution_count": 35,
   "metadata": {},
   "outputs": [
    {
     "name": "stdout",
     "output_type": "stream",
     "text": [
      "[-3.2131630210541156, -0.21751364593502576]\n"
     ]
    }
   ],
   "source": [
    "#2-D Rastrigrin function\n",
    "import random\n",
    "import math\n",
    "from random import Random\n",
    "import copy\n",
    "\n",
    "An = 10\n",
    "minLimit = -5.12\n",
    "maxLimit = 5.12\n",
    "vector_length = 2\n",
    "x_vec = [random.uniform(minLimit,maxLimit) for _ in range(vector_length)]\n",
    "\n",
    "#Generate vectors\n",
    "print(x_vec)"
   ]
  },
  {
   "cell_type": "code",
   "execution_count": 36,
   "metadata": {},
   "outputs": [
    {
     "name": "stdout",
     "output_type": "stream",
     "text": [
      "16.050769730299898\n"
     ]
    }
   ],
   "source": [
    "sum = 0\n",
    "for i in range(vector_length):\n",
    "    sum += x_vec[i]**2 - An*math.cos(2*math.pi*x_vec[i])\n",
    "\n",
    "fitness = An + sum\n",
    "print(fitness)"
   ]
  },
  {
   "cell_type": "code",
   "execution_count": 37,
   "metadata": {},
   "outputs": [],
   "source": [
    "#Individuals(vector of floats)\n",
    "#\n",
    "# Individual.py\n",
    "#\n",
    "#\n",
    "\n",
    "import math\n",
    "\n",
    "#A simple 1-D Individual class\n",
    "class Individual:\n",
    "    \"\"\"\n",
    "    Individual\n",
    "    \"\"\"\n",
    "    minSigma=1e-100\n",
    "    maxSigma=1\n",
    "    learningRate=1\n",
    "    minLimit=None\n",
    "    maxLimit=None\n",
    "    uniprng=None\n",
    "    normprng=None\n",
    "    fitFunc=None\n",
    "    vectorLength = None\n",
    "    SearchMode         = \"modeFindMIN\"\n",
    "    \n",
    "    def __init__(self):\n",
    "        self.vector_x = [self.uniprng.uniform(minLimit,maxLimit) for _ in range(self.vectorLength)]\n",
    "        self.fit=self.__class__.fitFunc(self.vector_x)\n",
    "        self.sigma=self.uniprng.uniform(0.9,0.1) #use \"normalized\" sigma\n",
    "        \n",
    "    def crossover(self, other):\n",
    "        #perform crossover \"in-place\"\n",
    "        alpha=self.uniprng.random()\n",
    "        \n",
    "        \n",
    "        tmp=self.x*alpha+other.x*(1-alpha)\n",
    "        other.x=self.x*(1-alpha)+other.x*alpha\n",
    "        self.x=tmp\n",
    "        \n",
    "        self.fit=None\n",
    "        other.fit=None\n",
    "    \n",
    "    def mutate(self):\n",
    "        self.sigma=self.sigma*math.exp(self.learningRate*self.normprng.normalvariate(0,1))\n",
    "        if self.sigma < self.minSigma: self.sigma=self.minSigma\n",
    "        if self.sigma > self.maxSigma: self.sigma=self.maxSigma\n",
    "\n",
    "        self.x=self.x+(self.maxLimit-self.minLimit)*self.sigma*self.normprng.normalvariate(0,1)\n",
    "        self.fit=None\n",
    "    \n",
    "    def evaluateFitness(self):\n",
    "        self.fit=self.__class__.fitFunc(self.vector_x)\n",
    "        \n",
    "    def __str__(self):\n",
    "        print(\"--------------------------\\n[INFO]Float Vector\")\n",
    "        print(f\"x_vec:\\n{self.vector_x}\")\n",
    "        print(f\"Fit:\\n{self.fit}\")\n",
    "        return '\\n'\n",
    "\n"
   ]
  },
  {
   "cell_type": "markdown",
   "metadata": {},
   "source": [
    "# Fitness Function N-dimensional Rastrigin"
   ]
  },
  {
   "cell_type": "code",
   "execution_count": 38,
   "metadata": {},
   "outputs": [],
   "source": [
    "def fitnessFunc(x_vec):\n",
    "    sum = 0\n",
    "    for i in range(len(x_vec)):\n",
    "        sum += x_vec[i]**2 - An*math.cos(2*math.pi*x_vec[i])\n",
    "\n",
    "    fitness = An + sum\n",
    "    return fitness"
   ]
  },
  {
   "cell_type": "markdown",
   "metadata": {},
   "source": [
    "## Plotting out the 2-D Fitness function for basic visualization"
   ]
  },
  {
   "cell_type": "code",
   "execution_count": null,
   "metadata": {},
   "outputs": [],
   "source": []
  },
  {
   "cell_type": "markdown",
   "metadata": {},
   "source": [
    "# Instantiation"
   ]
  },
  {
   "cell_type": "code",
   "execution_count": 39,
   "metadata": {},
   "outputs": [],
   "source": [
    "#start random number generators\n",
    "\n",
    "randomSeed = 1234\n",
    "uniprng=Random()\n",
    "uniprng.seed(randomSeed)\n",
    "normprng=Random()\n",
    "normprng.seed(randomSeed+101)\n",
    "\n",
    "#Set parameters\n",
    "Individual.minSigma=1e-100\n",
    "Individual.maxSigma=1\n",
    "Individual.learningRate=1\n",
    "Individual.minLimit=-5.12\n",
    "Individual.maxLimit=5.12\n",
    "Individual.uniprng= uniprng\n",
    "Individual.normprng= normprng\n",
    "Individual.fitFunc= fitnessFunc\n",
    "Individual.vectorLength = 2"
   ]
  },
  {
   "cell_type": "code",
   "execution_count": 40,
   "metadata": {},
   "outputs": [
    {
     "name": "stdout",
     "output_type": "stream",
     "text": [
      "--------------------------\n",
      "[INFO]Float Vector\n",
      "x_vec:\n",
      "[4.776484205487502, -0.6068981844443888]\n",
      "Fit:\n",
      "39.354634865089864\n",
      "\n",
      "\n"
     ]
    }
   ],
   "source": [
    "#Instantiate individual\n",
    "individual = Individual()\n",
    "print(individual)"
   ]
  },
  {
   "cell_type": "markdown",
   "metadata": {},
   "source": [
    "# CrossOver"
   ]
  },
  {
   "cell_type": "code",
   "execution_count": 41,
   "metadata": {},
   "outputs": [
    {
     "name": "stdout",
     "output_type": "stream",
     "text": [
      "--------------------------\n",
      "[INFO]Float Vector\n",
      "x_vec:\n",
      "[]\n",
      "Fit:\n",
      "39.354634865089864\n",
      "\n",
      "\n"
     ]
    }
   ],
   "source": [
    "child = copy.deepcopy(individual)\n",
    "child.vector_x = []\n",
    "print(child)"
   ]
  },
  {
   "cell_type": "code",
   "execution_count": 42,
   "metadata": {},
   "outputs": [
    {
     "name": "stdout",
     "output_type": "stream",
     "text": [
      "--------------------------\n",
      "[INFO]Float Vector\n",
      "x_vec:\n",
      "[-0.6068981844443888, -0.6068981844443888]\n",
      "Fit:\n",
      "26.392432092374094\n",
      "\n",
      "\n"
     ]
    }
   ],
   "source": [
    "#Set alpha\n",
    "alpha= random.uniform(0,1)\n",
    "#Portion of each vector_x\n",
    "l1_length = int(individual.vectorLength*alpha)\n",
    "l2_length = individual.vectorLength - l1_length\n",
    "#Portion of individual piece and other piece needed for crossOver\n",
    "#Piece them together Creating new child\n",
    "s1 = random.sample(individual.vector_x,l1_length)\n",
    "s2 = random.sample(individual.vector_x,l2_length)\n",
    "childVector = s1 + s2\n",
    "child.vector_x = childVector\n",
    "\n",
    "#ReEvaluate fitness\n",
    "child.evaluateFitness()\n",
    "\n",
    "print(child)"
   ]
  },
  {
   "cell_type": "markdown",
   "metadata": {},
   "source": [
    "# Mutation"
   ]
  },
  {
   "cell_type": "code",
   "execution_count": 43,
   "metadata": {},
   "outputs": [
    {
     "name": "stdout",
     "output_type": "stream",
     "text": [
      "--------------------------\n",
      "[INFO]Float Vector\n",
      "x_vec:\n",
      "[1.2576000019243878, 1.5892105214171321]\n",
      "Fit:\n",
      "23.054243227500987\n",
      "\n",
      "\n"
     ]
    }
   ],
   "source": [
    "individual.sigma=individual.sigma*math.exp(individual.learningRate*individual.normprng.normalvariate(0,1))\n",
    "\n",
    "if individual.sigma < individual.minSigma: individual.sigma=individual.minSigma\n",
    "if individual.sigma > individual.maxSigma: individual.sigma=individual.maxSigma\n",
    "\n",
    "for i,x in enumerate(individual.vector_x):\n",
    "    #Shift the value of x to postive first\n",
    "    tmp = x + abs(minLimit)\n",
    "    #Bias can only be added, there would be no negative bias\n",
    "    bias = (individual.maxLimit-individual.minLimit)*individual.sigma*individual.normprng.normalvariate(0,1)\n",
    "    tmp = bias + tmp\n",
    "    \n",
    "    #Shift x back\n",
    "    individual.vector_x[i] = tmp - abs(minLimit)\n",
    "\n",
    "#ReEvaluate Fitness\n",
    "individual.evaluateFitness()\n",
    "\n",
    "print(individual)"
   ]
  },
  {
   "cell_type": "markdown",
   "metadata": {},
   "source": [
    "# Putting it all together"
   ]
  },
  {
   "cell_type": "code",
   "execution_count": 44,
   "metadata": {},
   "outputs": [],
   "source": [
    "#Individuals(vector of floats)\n",
    "#\n",
    "# Individual.py\n",
    "#\n",
    "#\n",
    "\n",
    "import math\n",
    "\n",
    "#A simple 1-D Individual class\n",
    "class Individual:\n",
    "    \"\"\"\n",
    "    Individual\n",
    "    \"\"\"\n",
    "    minSigma=1e-100\n",
    "    maxSigma=1\n",
    "    learningRate=1\n",
    "    minLimit=None\n",
    "    maxLimit=None\n",
    "    uniprng=None\n",
    "    normprng=None\n",
    "    fitFunc=None\n",
    "    vectorLength = None\n",
    "    \n",
    "    def __init__(self,name = None):\n",
    "        self.vector_x = [self.uniprng.uniform(minLimit,maxLimit) for _ in range(self.vectorLength)]\n",
    "        self.fit=self.__class__.fitFunc(self.vector_x)\n",
    "        self.sigma=self.uniprng.uniform(0.9,0.1) #use \"normalized\" sigma\n",
    "        self.name = name\n",
    "        \n",
    "    def crossover(self, other):\n",
    "        child = copy.deepcopy(self)\n",
    "        child.vector_x = []\n",
    "        #Set alpha\n",
    "        alpha= random.uniform(0,1)\n",
    "        #Portion of each vector_x\n",
    "        l1_length = int(self.vectorLength*alpha)\n",
    "        l2_length = self.vectorLength - l1_length\n",
    "        #Portion of self piece and other piece needed for crossOver\n",
    "        #Piece them together Creating new child\n",
    "        s1 = random.sample(self.vector_x,l1_length)\n",
    "        s2 = random.sample(other.vector_x,l2_length)\n",
    "        childVector = s1 + s2\n",
    "        child.vector_x = childVector\n",
    "\n",
    "        #ReEvaluate fitness\n",
    "        child.evaluateFitness()\n",
    "        \n",
    "        return child\n",
    "        \n",
    "    \n",
    "    def mutate(self):\n",
    "        self.sigma=self.sigma*math.exp(self.learningRate*self.normprng.normalvariate(0,1))\n",
    "\n",
    "        if self.sigma < self.minSigma: self.sigma=self.minSigma\n",
    "        if self.sigma > self.maxSigma: self.sigma=self.maxSigma\n",
    "\n",
    "        for i,x in enumerate(self.vector_x):\n",
    "            if(self.sigma < 0.3): break #Simply not mutating\n",
    "            #Shift the value of x to postive first\n",
    "            tmp = x + abs(minLimit)\n",
    "            #Bias can only be positive, there would be no negative bias\n",
    "            bias = (self.maxLimit-self.minLimit)*self.sigma*self.normprng.normalvariate(0,1)\n",
    "            tmp = bias + tmp\n",
    "\n",
    "            #Shift x back\n",
    "            self.vector_x[i] = tmp - abs(minLimit)\n",
    "\n",
    "        #ReEvaluate Fitness\n",
    "        self.evaluateFitness()\n",
    "        \n",
    "    def evaluateFitness(self):\n",
    "        self.fit=self.__class__.fitFunc(self.vector_x)\n",
    "        \n",
    "    def __str__(self):\n",
    "        print(\"--------------------------\\n[INFO]Float Vector\")\n",
    "        if self.name is not None:\n",
    "            print(f\"Name :\\n{self.name}\")\n",
    "        print(f\"x_vec:\\n{self.vector_x}\")\n",
    "        print(f\"Fit:\\n{self.fit}\")\n",
    "        return '\\n'\n",
    "\n"
   ]
  },
  {
   "cell_type": "code",
   "execution_count": 45,
   "metadata": {},
   "outputs": [],
   "source": [
    "#Set parameters\n",
    "Individual.minSigma=1e-100\n",
    "Individual.maxSigma=1\n",
    "Individual.learningRate=1\n",
    "Individual.minLimit=-5.12\n",
    "Individual.maxLimit=5.12\n",
    "Individual.uniprng= uniprng\n",
    "Individual.normprng= normprng\n",
    "Individual.fitFunc= fitnessFunc\n",
    "Individual.vectorLength = 2"
   ]
  },
  {
   "cell_type": "code",
   "execution_count": 46,
   "metadata": {},
   "outputs": [
    {
     "name": "stdout",
     "output_type": "stream",
     "text": [
      "--------------------------\n",
      "[INFO]Float Vector\n",
      "Name :\n",
      "entity1\n",
      "x_vec:\n",
      "[4.208393855479032, 4.4981145330049435]\n",
      "Fit:\n",
      "55.35839435709722\n",
      "\n",
      "\n",
      "--------------------------\n",
      "[INFO]Float Vector\n",
      "Name :\n",
      "entity2\n",
      "x_vec:\n",
      "[1.7568100504369673, -4.26047255718826]\n",
      "Fit:\n",
      "31.467785870341803\n",
      "\n",
      "\n"
     ]
    }
   ],
   "source": [
    "entity1 = Individual(name = 'entity1')\n",
    "entity2 = Individual(name ='entity2')\n",
    "print(entity1)\n",
    "print(entity2)"
   ]
  },
  {
   "cell_type": "code",
   "execution_count": 55,
   "metadata": {},
   "outputs": [
    {
     "name": "stdout",
     "output_type": "stream",
     "text": [
      "--------------------------\n",
      "[INFO]Float Vector\n",
      "Name :\n",
      "entity1\n",
      "x_vec:\n",
      "[4.4981145330049435, 1.7568100504369673]\n",
      "Fit:\n",
      "42.8909566558445\n",
      "\n",
      "\n"
     ]
    }
   ],
   "source": [
    "child = entity1.crossover(entity2)\n",
    "print(child)"
   ]
  },
  {
   "cell_type": "code",
   "execution_count": 56,
   "metadata": {},
   "outputs": [
    {
     "name": "stdout",
     "output_type": "stream",
     "text": [
      "--------------------------\n",
      "[INFO]Float Vector\n",
      "Name :\n",
      "entity1\n",
      "x_vec:\n",
      "[-3.2245502821364234, 5.938692147769848]\n",
      "Fit:\n",
      "44.80634113641544\n",
      "\n",
      "\n"
     ]
    }
   ],
   "source": [
    "child.mutate()\n",
    "print(child)"
   ]
  }
 ],
 "metadata": {
  "kernelspec": {
   "display_name": "Python 3.9.12 ('base')",
   "language": "python",
   "name": "python3"
  },
  "language_info": {
   "codemirror_mode": {
    "name": "ipython",
    "version": 3
   },
   "file_extension": ".py",
   "mimetype": "text/x-python",
   "name": "python",
   "nbconvert_exporter": "python",
   "pygments_lexer": "ipython3",
   "version": "3.9.12"
  },
  "orig_nbformat": 4,
  "vscode": {
   "interpreter": {
    "hash": "99b59deff7827a9d9c876a01001fad615b615040f915a980cea8ff96b4e320a5"
   }
  }
 },
 "nbformat": 4,
 "nbformat_minor": 2
}
