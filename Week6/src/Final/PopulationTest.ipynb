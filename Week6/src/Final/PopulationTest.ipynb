{
 "cells": [
  {
   "cell_type": "code",
   "execution_count": 28,
   "metadata": {},
   "outputs": [],
   "source": [
    "from Population import Population\n",
    "from fitnessFunc import *\n",
    "import copy\n",
    "import math\n",
    "from operator import attrgetter\n",
    "from Individual import *"
   ]
  },
  {
   "cell_type": "code",
   "execution_count": 29,
   "metadata": {},
   "outputs": [],
   "source": [
    "# Set Parameters\n",
    "randomSeed = 1234\n",
    "problemType = \"Problem2\"\n",
    "mode = 'MIN'\n",
    "minLimit = 5.12\n",
    "maxLimit = -5.12\n",
    "crossoverFraction = 0.4\n",
    "populationSize    = 11\n",
    "sequenceLength    = 3 \n",
    "\n",
    "#PROBLEM1\n",
    "interactionEnergyMatrix = [[10,4,1],[4,10,5],[1,5,10]]\n",
    "selfEnergyVector  = [1,2,3]\n",
    "numParticleType   = 3\n",
    "\n",
    "#Pick fitness function\n",
    "if problemType == \"Problem1\":\n",
    "    fitnessFunction = CalulateEnergy\n",
    "else:\n",
    "    fitnessFunction = N_Dimensional_Rastrigin\n",
    "\n",
    "#start random number generators\n",
    "uniprng=Random()\n",
    "uniprng.seed(randomSeed)\n",
    "normprng=Random()\n",
    "normprng.seed(randomSeed+101)\n",
    "#set static params on classes\n",
    "Individual.problemType = problemType\n",
    "Individual.minLimit=minLimit\n",
    "Individual.maxLimit=maxLimit\n",
    "Individual.fitFunc= fitnessFunction\n",
    "Individual.uniprng=uniprng\n",
    "Individual.normprng=normprng\n",
    "\n",
    "Population.problemType= problemType\n",
    "Population.mode       = mode\n",
    "Population.uniprng=uniprng\n",
    "Population.crossoverFraction = crossoverFraction\n",
    "Population.numParticleType  = numParticleType\n",
    "Population.fitFunc= fitnessFunction\n",
    "\n",
    "#For Problem1\n",
    "Population.interactionEnergyMatrix = interactionEnergyMatrix\n",
    "Population.selfEnergyVector = selfEnergyVector\n",
    "\n",
    "#create initial Population (random initialization)\n",
    "population=Population(populationSize = populationSize,\n",
    "                      sequenceLength = sequenceLength)"
   ]
  },
  {
   "cell_type": "code",
   "execution_count": 30,
   "metadata": {},
   "outputs": [
    {
     "name": "stdout",
     "output_type": "stream",
     "text": [
      "--------------------------------[INFO]---------------------------------------------------\n",
      "MODE:               MIN\n",
      "ProblemType:        Problem2\n",
      "Population Size:    11\n",
      "CrossOverFraction:  0.4\n",
      "--------------------------------\n",
      "Fitness Function:\n",
      " <bound method N_Dimensional_Rastrigin of <Population.Population object at 0x0000029489B10490>>\n",
      "---------------------------------\n",
      "SequenceLength:\n",
      " 3\n",
      "----------------------------------\n",
      "Population:\n",
      "\n",
      "[-4.776484205487502, 0.6068981844443888, 5.043287346600067]\n",
      "[-4.4981145330049435, -0.8420103481236394, -1.7568100504369673]\n",
      "[-2.7287647517879945, 2.6950679002816744, 4.804464417519514]\n",
      "[1.5760489922854597, -1.2624023044010855, -1.1859527178610199]\n",
      "[3.2451517705223, 3.948411190387839, 4.9703036878140505]\n",
      "[-4.7605919837820485, 4.458882242793615, -0.4207430200435738]\n",
      "[-1.0389857235051672, 4.209368780895618, -0.8089875065586334]\n",
      "[-0.5778694200956478, -1.4810545579856145, 0.19418755720685077]\n",
      "[2.5686822772612197, -4.4391986999536295, 0.477306680560706]\n",
      "[4.922372440988499, -0.0829637199850719, 5.0608103688423105]\n",
      "[0.27825228444255945, 1.2559622064886127, 4.565245965863498]\n",
      "---------------------------------\n",
      "Average Fitness Of population:\n",
      " None\n",
      "bestFitness:\n",
      "None\n",
      "bestIndividual:\n",
      "None\n"
     ]
    }
   ],
   "source": [
    "population.print_info()"
   ]
  },
  {
   "cell_type": "markdown",
   "metadata": {},
   "source": [
    "# Test Funcnality"
   ]
  },
  {
   "cell_type": "code",
   "execution_count": 31,
   "metadata": {},
   "outputs": [
    {
     "name": "stdout",
     "output_type": "stream",
     "text": [
      "--------------------------------[INFO]---------------------------------------------------\n",
      "MODE:               MIN\n",
      "ProblemType:        Problem2\n",
      "Population Size:    11\n",
      "CrossOverFraction:  0.4\n",
      "--------------------------------\n",
      "Fitness Function:\n",
      " <bound method N_Dimensional_Rastrigin of <Population.Population object at 0x0000029489B12D60>>\n",
      "---------------------------------\n",
      "SequenceLength:\n",
      " 3\n",
      "----------------------------------\n",
      "Population:\n",
      "\n",
      "[-4.776484205487502, 0.6068981844443888, 5.043287346600067]\n",
      "[-4.4981145330049435, -0.8420103481236394, -1.7568100504369673]\n",
      "[-2.7287647517879945, 2.6950679002816744, 4.804464417519514]\n",
      "[1.5760489922854597, -1.2624023044010855, -1.1859527178610199]\n",
      "[3.2451517705223, 3.948411190387839, 4.9703036878140505]\n",
      "[-4.7605919837820485, 4.458882242793615, -0.4207430200435738]\n",
      "[-1.0389857235051672, 4.209368780895618, -0.8089875065586334]\n",
      "[-0.5778694200956478, -1.4810545579856145, 0.19418755720685077]\n",
      "[2.5686822772612197, -4.4391986999536295, 0.477306680560706]\n",
      "[4.922372440988499, -0.0829637199850719, 5.0608103688423105]\n",
      "[0.27825228444255945, 1.2559622064886127, 4.565245965863498]\n",
      "---------------------------------\n",
      "Average Fitness Of population:\n",
      " None\n",
      "bestFitness:\n",
      "None\n",
      "bestIndividual:\n",
      "None\n"
     ]
    }
   ],
   "source": [
    "#create initial offspring population by copying parent pop\n",
    "offspring=population.copy()\n",
    "\n",
    "offspring.print_info()"
   ]
  },
  {
   "cell_type": "code",
   "execution_count": 32,
   "metadata": {},
   "outputs": [
    {
     "name": "stdout",
     "output_type": "stream",
     "text": [
      "--------------------------------[INFO]---------------------------------------------------\n",
      "MODE:               MIN\n",
      "ProblemType:        Problem2\n",
      "Population Size:    11\n",
      "CrossOverFraction:  0.4\n",
      "--------------------------------\n",
      "Fitness Function:\n",
      " <bound method N_Dimensional_Rastrigin of <Population.Population object at 0x0000029489B12D60>>\n",
      "---------------------------------\n",
      "SequenceLength:\n",
      " 3\n",
      "----------------------------------\n",
      "Population:\n",
      "\n",
      "[-1.0389857235051672, 4.209368780895618, -0.8089875065586334]\n",
      "[-0.5778694200956478, -1.4810545579856145, 0.19418755720685077]\n",
      "[-1.0389857235051672, 4.209368780895618, -0.8089875065586334]\n",
      "[-4.4981145330049435, -0.8420103481236394, -1.7568100504369673]\n",
      "[0.27825228444255945, 1.2559622064886127, 4.565245965863498]\n",
      "[-2.7287647517879945, 2.6950679002816744, 4.804464417519514]\n",
      "[1.5760489922854597, -1.2624023044010855, -1.1859527178610199]\n",
      "[1.5760489922854597, -1.2624023044010855, -1.1859527178610199]\n",
      "[-0.5778694200956478, -1.4810545579856145, 0.19418755720685077]\n",
      "[-4.4981145330049435, -0.8420103481236394, -1.7568100504369673]\n",
      "[0.27825228444255945, 1.2559622064886127, 4.565245965863498]\n",
      "---------------------------------\n",
      "Average Fitness Of population:\n",
      " None\n",
      "bestFitness:\n",
      "None\n",
      "bestIndividual:\n",
      "None\n"
     ]
    }
   ],
   "source": [
    "#select mating pool\n",
    "offspring.conductTournament()\n",
    "\n",
    "offspring.print_info()"
   ]
  },
  {
   "cell_type": "code",
   "execution_count": 33,
   "metadata": {},
   "outputs": [
    {
     "name": "stdout",
     "output_type": "stream",
     "text": [
      "--------------------------------[INFO]---------------------------------------------------\n",
      "MODE:               MIN\n",
      "ProblemType:        Problem2\n",
      "Population Size:    11\n",
      "CrossOverFraction:  0.4\n",
      "--------------------------------\n",
      "Fitness Function:\n",
      " <bound method N_Dimensional_Rastrigin of <Population.Population object at 0x0000029489B12D60>>\n",
      "---------------------------------\n",
      "SequenceLength:\n",
      " 3\n",
      "----------------------------------\n",
      "Population:\n",
      "\n",
      "[-1.0389857235051672, 4.209368780895618, -0.8089875065586334]\n",
      "[-0.8089875065586334, -1.0389857235051672, -1.0389857235051672]\n",
      "[-1.0389857235051672, 4.209368780895618, -0.8089875065586334]\n",
      "[-0.8420103481236394, -4.4981145330049435, -1.7568100504369673]\n",
      "[0.27825228444255945, 1.2559622064886127, 4.565245965863498]\n",
      "[0.27825228444255945, 1.2559622064886127, -4.4981145330049435]\n",
      "[1.5760489922854597, -1.2624023044010855, -1.1859527178610199]\n",
      "[1.5760489922854597, -1.2624023044010855, -1.1859527178610199]\n",
      "[-0.5778694200956478, -1.4810545579856145, 0.19418755720685077]\n",
      "[-4.4981145330049435, -0.8420103481236394, -1.7568100504369673]\n",
      "[0.27825228444255945, 1.2559622064886127, 4.565245965863498]\n",
      "---------------------------------\n",
      "Average Fitness Of population:\n",
      " None\n",
      "bestFitness:\n",
      "None\n",
      "bestIndividual:\n",
      "None\n"
     ]
    }
   ],
   "source": [
    "#perform crossover\n",
    "offspring.crossover()\n",
    "\n",
    "offspring.print_info()"
   ]
  },
  {
   "cell_type": "code",
   "execution_count": 34,
   "metadata": {},
   "outputs": [
    {
     "name": "stdout",
     "output_type": "stream",
     "text": [
      "--------------------------------[INFO]---------------------------------------------------\n",
      "MODE:               MIN\n",
      "ProblemType:        Problem2\n",
      "Population Size:    11\n",
      "CrossOverFraction:  0.4\n",
      "--------------------------------\n",
      "Fitness Function:\n",
      " <bound method N_Dimensional_Rastrigin of <Population.Population object at 0x0000029489B12D60>>\n",
      "---------------------------------\n",
      "SequenceLength:\n",
      " 3\n",
      "----------------------------------\n",
      "Population:\n",
      "\n",
      "[2.1373896035694306, 2.227017244062176, -0.19751980680849357]\n",
      "[-0.8089875065586334, -1.0389857235051672, -1.0389857235051672]\n",
      "[3.441992542510218, 7.179075041765397, -3.6486486270762595]\n",
      "[-0.8420103481236394, -4.4981145330049435, -1.7568100504369673]\n",
      "[10.284542848498543, 0.30843817759309733, 14.026163740358978]\n",
      "[-0.3694169610332052, -3.0909470781571855, 3.295968634049978]\n",
      "[1.5760489922854597, -1.2624023044010855, -1.1859527178610199]\n",
      "[-0.99921750624992, -18.95132524124009, 0.9277086997804522]\n",
      "[-2.4890189834884566, -14.706182092951973, -19.21693190267387]\n",
      "[3.7002851344411107, -1.2447220271475503, -21.214295371172405]\n",
      "[7.511536729012529, -15.414487135169033, -0.07598954176598927]\n",
      "---------------------------------\n",
      "Average Fitness Of population:\n",
      " None\n",
      "bestFitness:\n",
      "None\n",
      "bestIndividual:\n",
      "None\n"
     ]
    }
   ],
   "source": [
    "#random mutation\n",
    "offspring.mutate()\n",
    "offspring.print_info()"
   ]
  },
  {
   "cell_type": "code",
   "execution_count": 35,
   "metadata": {},
   "outputs": [
    {
     "name": "stdout",
     "output_type": "stream",
     "text": [
      "--------------------------------[INFO]---------------------------------------------------\n",
      "MODE:               MIN\n",
      "ProblemType:        Problem2\n",
      "Population Size:    11\n",
      "CrossOverFraction:  0.4\n",
      "--------------------------------\n",
      "Fitness Function:\n",
      " <bound method N_Dimensional_Rastrigin of <Population.Population object at 0x0000029489B12D60>>\n",
      "---------------------------------\n",
      "SequenceLength:\n",
      " 3\n",
      "----------------------------------\n",
      "Population:\n",
      "\n",
      "[2.1373896035694306, 2.227017244062176, -0.19751980680849357]\n",
      "[-0.8089875065586334, -1.0389857235051672, -1.0389857235051672]\n",
      "[3.441992542510218, 7.179075041765397, -3.6486486270762595]\n",
      "[-0.8420103481236394, -4.4981145330049435, -1.7568100504369673]\n",
      "[10.284542848498543, 0.30843817759309733, 14.026163740358978]\n",
      "[-0.3694169610332052, -3.0909470781571855, 3.295968634049978]\n",
      "[1.5760489922854597, -1.2624023044010855, -1.1859527178610199]\n",
      "[-0.99921750624992, -18.95132524124009, 0.9277086997804522]\n",
      "[-2.4890189834884566, -14.706182092951973, -19.21693190267387]\n",
      "[3.7002851344411107, -1.2447220271475503, -21.214295371172405]\n",
      "[7.511536729012529, -15.414487135169033, -0.07598954176598927]\n",
      "---------------------------------\n",
      "Average Fitness Of population:\n",
      " 203.62806650849396\n",
      "bestFitness:\n",
      "-10.211545623777951\n",
      "bestIndividual:\n",
      "[-0.8089875065586334, -1.0389857235051672, -1.0389857235051672]\n"
     ]
    }
   ],
   "source": [
    "#update fitness values\n",
    "offspring.evaluateFitness()\n",
    "offspring.print_info()"
   ]
  },
  {
   "cell_type": "code",
   "execution_count": 36,
   "metadata": {},
   "outputs": [
    {
     "name": "stdout",
     "output_type": "stream",
     "text": [
      "--------------------------------[INFO]---------------------------------------------------\n",
      "MODE:               MIN\n",
      "ProblemType:        Problem2\n",
      "Population Size:    11\n",
      "CrossOverFraction:  0.4\n",
      "--------------------------------\n",
      "Fitness Function:\n",
      " <bound method N_Dimensional_Rastrigin of <Population.Population object at 0x0000029489B10490>>\n",
      "---------------------------------\n",
      "SequenceLength:\n",
      " 3\n",
      "----------------------------------\n",
      "Population:\n",
      "\n",
      "[-0.8089875065586334, -1.0389857235051672, -1.0389857235051672]\n",
      "[2.1373896035694306, 2.227017244062176, -0.19751980680849357]\n",
      "[-1.0389857235051672, 4.209368780895618, -0.8089875065586334]\n",
      "[1.5760489922854597, -1.2624023044010855, -1.1859527178610199]\n",
      "[1.5760489922854597, -1.2624023044010855, -1.1859527178610199]\n",
      "[-0.5778694200956478, -1.4810545579856145, 0.19418755720685077]\n",
      "[-0.3694169610332052, -3.0909470781571855, 3.295968634049978]\n",
      "[4.922372440988499, -0.0829637199850719, 5.0608103688423105]\n",
      "[-4.4981145330049435, -0.8420103481236394, -1.7568100504369673]\n",
      "[-0.8420103481236394, -4.4981145330049435, -1.7568100504369673]\n",
      "[3.2451517705223, 3.948411190387839, 4.9703036878140505]\n",
      "---------------------------------\n",
      "Average Fitness Of population:\n",
      " 24.043585923184754\n",
      "bestFitness:\n",
      "-10.211545623777951\n",
      "bestIndividual:\n",
      "[-0.8089875065586334, -1.0389857235051672, -1.0389857235051672]\n"
     ]
    }
   ],
   "source": [
    "#survivor selection: elitist truncation using parents+offspring\n",
    "population.combinePops(offspring)\n",
    "population.truncateSelect(populationSize)\n",
    "population.evaluateFitness()\n",
    "population.print_info()"
   ]
  },
  {
   "cell_type": "code",
   "execution_count": null,
   "metadata": {},
   "outputs": [],
   "source": [
    "for _ in range(populationSize):\n",
    "    offspring=population.copy()\n",
    "    offspring.conductTournament()\n",
    "\n",
    "\n",
    "    #survivor selection: elitist truncation using parents+offspring\n",
    "    population.combinePops(offspring)\n",
    "    population.truncateSelect(populationSize)\n",
    "    population.evaluateFitness()\n",
    "    "
   ]
  }
 ],
 "metadata": {
  "kernelspec": {
   "display_name": "Python 3.9.12 ('base')",
   "language": "python",
   "name": "python3"
  },
  "language_info": {
   "codemirror_mode": {
    "name": "ipython",
    "version": 3
   },
   "file_extension": ".py",
   "mimetype": "text/x-python",
   "name": "python",
   "nbconvert_exporter": "python",
   "pygments_lexer": "ipython3",
   "version": "3.9.12"
  },
  "orig_nbformat": 4,
  "vscode": {
   "interpreter": {
    "hash": "99b59deff7827a9d9c876a01001fad615b615040f915a980cea8ff96b4e320a5"
   }
  }
 },
 "nbformat": 4,
 "nbformat_minor": 2
}
