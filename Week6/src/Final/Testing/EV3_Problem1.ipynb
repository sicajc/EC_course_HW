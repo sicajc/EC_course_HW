{
 "cells": [
  {
   "cell_type": "code",
   "execution_count": 1,
   "metadata": {},
   "outputs": [],
   "source": [
    "from Population import Population\n",
    "from fitnessFunc import *\n",
    "import copy\n",
    "import math\n",
    "from operator import attrgetter\n",
    "from Individual import *"
   ]
  },
  {
   "cell_type": "code",
   "execution_count": 2,
   "metadata": {},
   "outputs": [],
   "source": [
    "# Set Parameters\n",
    "randomSeed = 1234\n",
    "problemType = \"Problem1\"\n",
    "mode = 'MIN'\n",
    "minLimit = -5.12\n",
    "maxLimit = 5.12\n",
    "crossoverFraction = 0.6\n",
    "populationSize    = 10\n",
    "sequenceLength    = 11 \n",
    "numOfGenerations  = 1000\n",
    "\n",
    "#PROBLEM1\n",
    "interactionEnergyMatrix = [[10,4,1],[4,10,5],[1,5,10]]\n",
    "selfEnergyVector  = [1,2,3]\n",
    "numParticleType   = 3\n",
    "\n",
    "#Pick fitness function\n",
    "if problemType == \"Problem1\":\n",
    "    fitnessFunction = CalulateEnergy\n",
    "else:\n",
    "    fitnessFunction = N_Dimensional_Rastrigin\n",
    "\n",
    "#start random number generators\n",
    "uniprng=Random()\n",
    "uniprng.seed(randomSeed)\n",
    "normprng=Random()\n",
    "normprng.seed(randomSeed+101)\n",
    "#set static params on classes\n",
    "Individual.problemType = problemType\n",
    "Individual.minLimit=minLimit\n",
    "Individual.maxLimit=maxLimit\n",
    "Individual.fitFunc= fitnessFunction\n",
    "Individual.uniprng=uniprng\n",
    "Individual.normprng=normprng\n",
    "\n",
    "Population.problemType= problemType\n",
    "Population.mode       = mode\n",
    "Population.uniprng=uniprng\n",
    "Population.crossoverFraction = crossoverFraction\n",
    "Population.numParticleType  = numParticleType\n",
    "Population.fitFunc= fitnessFunction\n",
    "\n",
    "#For Problem1\n",
    "Population.interactionEnergyMatrix = interactionEnergyMatrix\n",
    "Population.selfEnergyVector = selfEnergyVector\n",
    "\n",
    "#create initial Population (random initialization)\n",
    "population=Population(populationSize = populationSize,\n",
    "                      sequenceLength = sequenceLength)"
   ]
  },
  {
   "cell_type": "code",
   "execution_count": 3,
   "metadata": {},
   "outputs": [
    {
     "name": "stdout",
     "output_type": "stream",
     "text": [
      "--------------------------------[INFO]---------------------------------------------------\n",
      "MODE:               MIN\n",
      "ProblemType:        Problem1\n",
      "Population Size:    10\n",
      "CrossOverFraction:  0.6\n",
      "--------------------------------\n",
      "Fitness Function:\n",
      " <bound method CalulateEnergy of <Population.Population object at 0x0000026E03CBB5B0>>\n",
      "Interaction Matrix:\n",
      "[[10, 4, 1], [4, 10, 5], [1, 5, 10]]\n",
      "SelfEnergyVector:\n",
      "[1, 2, 3]\n",
      "NumOfParticles: 3\n",
      "---------------------------------\n",
      "SequenceLength:\n",
      " 11\n",
      "----------------------------------\n",
      "Population:\n",
      "\n",
      "[1, 0, 0, 0, 2, 0, 2, 2, 0, 0, 1]\n",
      "[0, 0, 1, 2, 2, 1, 2, 1, 0, 0, 0]\n",
      "[0, 2, 1, 0, 0, 2, 2, 1, 0, 2, 2]\n",
      "[2, 0, 1, 2, 0, 2, 1, 1, 1, 1, 0]\n",
      "[0, 1, 2, 2, 0, 2, 0, 0, 1, 0, 2]\n",
      "[1, 0, 0, 0, 2, 1, 0, 0, 2, 0, 0]\n",
      "[1, 0, 2, 0, 2, 1, 1, 0, 1, 1, 2]\n",
      "[0, 1, 0, 1, 0, 1, 0, 2, 1, 1, 1]\n",
      "[1, 1, 0, 1, 2, 0, 1, 2, 2, 1, 1]\n",
      "[0, 1, 1, 0, 2, 0, 1, 1, 2, 1, 2]\n",
      "---------------------------------\n",
      "Average Fitness Of population:\n",
      " None\n",
      "bestFitness:\n",
      "None\n",
      "bestIndividual:\n",
      "None\n"
     ]
    }
   ],
   "source": [
    "population.print_info()"
   ]
  },
  {
   "cell_type": "markdown",
   "metadata": {},
   "source": [
    "# Test Funcnality"
   ]
  },
  {
   "cell_type": "code",
   "execution_count": 4,
   "metadata": {},
   "outputs": [
    {
     "name": "stdout",
     "output_type": "stream",
     "text": [
      "--------------------------------[INFO]---------------------------------------------------\n",
      "MODE:               MIN\n",
      "ProblemType:        Problem1\n",
      "Population Size:    10\n",
      "CrossOverFraction:  0.6\n",
      "--------------------------------\n",
      "Fitness Function:\n",
      " <bound method CalulateEnergy of <Population.Population object at 0x0000026E03CBB820>>\n",
      "Interaction Matrix:\n",
      "[[10, 4, 1], [4, 10, 5], [1, 5, 10]]\n",
      "SelfEnergyVector:\n",
      "[1, 2, 3]\n",
      "NumOfParticles: 3\n",
      "---------------------------------\n",
      "SequenceLength:\n",
      " 11\n",
      "----------------------------------\n",
      "Population:\n",
      "\n",
      "[1, 0, 0, 0, 2, 0, 2, 2, 0, 0, 1]\n",
      "[0, 0, 1, 2, 2, 1, 2, 1, 0, 0, 0]\n",
      "[0, 2, 1, 0, 0, 2, 2, 1, 0, 2, 2]\n",
      "[2, 0, 1, 2, 0, 2, 1, 1, 1, 1, 0]\n",
      "[0, 1, 2, 2, 0, 2, 0, 0, 1, 0, 2]\n",
      "[1, 0, 0, 0, 2, 1, 0, 0, 2, 0, 0]\n",
      "[1, 0, 2, 0, 2, 1, 1, 0, 1, 1, 2]\n",
      "[0, 1, 0, 1, 0, 1, 0, 2, 1, 1, 1]\n",
      "[1, 1, 0, 1, 2, 0, 1, 2, 2, 1, 1]\n",
      "[0, 1, 1, 0, 2, 0, 1, 1, 2, 1, 2]\n",
      "---------------------------------\n",
      "Average Fitness Of population:\n",
      " None\n",
      "bestFitness:\n",
      "None\n",
      "bestIndividual:\n",
      "None\n"
     ]
    }
   ],
   "source": [
    "#create initial offspring population by copying parent pop\n",
    "offspring=population.copy()\n",
    "\n",
    "offspring.print_info()"
   ]
  },
  {
   "cell_type": "code",
   "execution_count": 5,
   "metadata": {},
   "outputs": [
    {
     "name": "stdout",
     "output_type": "stream",
     "text": [
      "--------------------------------[INFO]---------------------------------------------------\n",
      "MODE:               MIN\n",
      "ProblemType:        Problem1\n",
      "Population Size:    10\n",
      "CrossOverFraction:  0.6\n",
      "--------------------------------\n",
      "Fitness Function:\n",
      " <bound method CalulateEnergy of <Population.Population object at 0x0000026E03CBB820>>\n",
      "Interaction Matrix:\n",
      "[[10, 4, 1], [4, 10, 5], [1, 5, 10]]\n",
      "SelfEnergyVector:\n",
      "[1, 2, 3]\n",
      "NumOfParticles: 3\n",
      "---------------------------------\n",
      "SequenceLength:\n",
      " 11\n",
      "----------------------------------\n",
      "Population:\n",
      "\n",
      "[1, 0, 2, 0, 2, 1, 1, 0, 1, 1, 2]\n",
      "[0, 1, 2, 2, 0, 2, 0, 0, 1, 0, 2]\n",
      "[0, 1, 0, 1, 0, 1, 0, 2, 1, 1, 1]\n",
      "[2, 0, 1, 2, 0, 2, 1, 1, 1, 1, 0]\n",
      "[0, 1, 1, 0, 2, 0, 1, 1, 2, 1, 2]\n",
      "[0, 2, 1, 0, 0, 2, 2, 1, 0, 2, 2]\n",
      "[0, 1, 1, 0, 2, 0, 1, 1, 2, 1, 2]\n",
      "[0, 1, 2, 2, 0, 2, 0, 0, 1, 0, 2]\n",
      "[0, 2, 1, 0, 0, 2, 2, 1, 0, 2, 2]\n",
      "[1, 0, 2, 0, 2, 1, 1, 0, 1, 1, 2]\n",
      "---------------------------------\n",
      "Average Fitness Of population:\n",
      " None\n",
      "bestFitness:\n",
      "None\n",
      "bestIndividual:\n",
      "None\n"
     ]
    }
   ],
   "source": [
    "#select mating pool\n",
    "offspring.conductTournament()\n",
    "\n",
    "offspring.print_info()"
   ]
  },
  {
   "cell_type": "code",
   "execution_count": 6,
   "metadata": {},
   "outputs": [
    {
     "name": "stdout",
     "output_type": "stream",
     "text": [
      "--------------------------------[INFO]---------------------------------------------------\n",
      "MODE:               MIN\n",
      "ProblemType:        Problem1\n",
      "Population Size:    10\n",
      "CrossOverFraction:  0.6\n",
      "--------------------------------\n",
      "Fitness Function:\n",
      " <bound method CalulateEnergy of <Population.Population object at 0x0000026E03CBB820>>\n",
      "Interaction Matrix:\n",
      "[[10, 4, 1], [4, 10, 5], [1, 5, 10]]\n",
      "SelfEnergyVector:\n",
      "[1, 2, 3]\n",
      "NumOfParticles: 3\n",
      "---------------------------------\n",
      "SequenceLength:\n",
      " 11\n",
      "----------------------------------\n",
      "Population:\n",
      "\n",
      "[1, 0, 2, 0, 2, 1, 1, 0, 1, 1, 2]\n",
      "[0, 1, 2, 2, 0, 2, 0, 0, 1, 0, 2]\n",
      "[0, 1, 0, 1, 0, 1, 0, 2, 1, 1, 1]\n",
      "[2, 0, 1, 2, 0, 2, 1, 1, 1, 1, 0]\n",
      "[0, 1, 1, 0, 2, 0, 1, 1, 2, 1, 2]\n",
      "[0, 2, 1, 0, 0, 2, 2, 1, 0, 2, 2]\n",
      "[0, 1, 1, 0, 2, 0, 1, 1, 2, 1, 2]\n",
      "[0, 1, 2, 2, 0, 2, 0, 0, 1, 0, 2]\n",
      "[0, 2, 1, 0, 0, 2, 2, 1, 0, 2, 2]\n",
      "[1, 0, 2, 0, 2, 1, 1, 0, 1, 1, 2]\n",
      "---------------------------------\n",
      "Average Fitness Of population:\n",
      " None\n",
      "bestFitness:\n",
      "None\n",
      "bestIndividual:\n",
      "None\n"
     ]
    }
   ],
   "source": [
    "#perform crossover\n",
    "offspring.crossover()\n",
    "\n",
    "offspring.print_info()"
   ]
  },
  {
   "cell_type": "code",
   "execution_count": 7,
   "metadata": {},
   "outputs": [
    {
     "name": "stdout",
     "output_type": "stream",
     "text": [
      "--------------------------------[INFO]---------------------------------------------------\n",
      "MODE:               MIN\n",
      "ProblemType:        Problem1\n",
      "Population Size:    10\n",
      "CrossOverFraction:  0.6\n",
      "--------------------------------\n",
      "Fitness Function:\n",
      " <bound method CalulateEnergy of <Population.Population object at 0x0000026E03CBB820>>\n",
      "Interaction Matrix:\n",
      "[[10, 4, 1], [4, 10, 5], [1, 5, 10]]\n",
      "SelfEnergyVector:\n",
      "[1, 2, 3]\n",
      "NumOfParticles: 3\n",
      "---------------------------------\n",
      "SequenceLength:\n",
      " 11\n",
      "----------------------------------\n",
      "Population:\n",
      "\n",
      "[2, 1, 1, 0, 2, 1, 1, 0, 1, 2, 2]\n",
      "[2, 0, 2, 1, 0, 0, 0, 0, 1, 1, 2]\n",
      "[0, 0, 1, 2, 1, 1, 2, 0, 0, 1, 0]\n",
      "[0, 0, 2, 0, 0, 2, 1, 0, 1, 0, 2]\n",
      "[1, 0, 1, 2, 1, 2, 1, 1, 1, 1, 2]\n",
      "[2, 1, 2, 1, 0, 0, 0, 1, 0, 0, 0]\n",
      "[0, 2, 2, 2, 2, 2, 0, 1, 2, 0, 0]\n",
      "[1, 2, 2, 0, 0, 0, 1, 2, 2, 1, 1]\n",
      "[2, 1, 2, 1, 0, 2, 1, 2, 0, 2, 0]\n",
      "[2, 1, 0, 0, 2, 0, 0, 1, 1, 2, 1]\n",
      "---------------------------------\n",
      "Average Fitness Of population:\n",
      " None\n",
      "bestFitness:\n",
      "None\n",
      "bestIndividual:\n",
      "None\n"
     ]
    }
   ],
   "source": [
    "#random mutation\n",
    "offspring.mutate()\n",
    "offspring.print_info()"
   ]
  },
  {
   "cell_type": "code",
   "execution_count": 8,
   "metadata": {},
   "outputs": [
    {
     "name": "stdout",
     "output_type": "stream",
     "text": [
      "--------------------------------[INFO]---------------------------------------------------\n",
      "MODE:               MIN\n",
      "ProblemType:        Problem1\n",
      "Population Size:    10\n",
      "CrossOverFraction:  0.6\n",
      "--------------------------------\n",
      "Fitness Function:\n",
      " <bound method CalulateEnergy of <Population.Population object at 0x0000026E03CBB820>>\n",
      "Interaction Matrix:\n",
      "[[10, 4, 1], [4, 10, 5], [1, 5, 10]]\n",
      "SelfEnergyVector:\n",
      "[1, 2, 3]\n",
      "NumOfParticles: 3\n",
      "---------------------------------\n",
      "SequenceLength:\n",
      " 11\n",
      "----------------------------------\n",
      "Population:\n",
      "\n",
      "[2, 1, 1, 0, 2, 1, 1, 0, 1, 2, 2]\n",
      "[2, 0, 2, 1, 0, 0, 0, 0, 1, 1, 2]\n",
      "[0, 0, 1, 2, 1, 1, 2, 0, 0, 1, 0]\n",
      "[0, 0, 2, 0, 0, 2, 1, 0, 1, 0, 2]\n",
      "[1, 0, 1, 2, 1, 2, 1, 1, 1, 1, 2]\n",
      "[2, 1, 2, 1, 0, 0, 0, 1, 0, 0, 0]\n",
      "[0, 2, 2, 2, 2, 2, 0, 1, 2, 0, 0]\n",
      "[1, 2, 2, 0, 0, 0, 1, 2, 2, 1, 1]\n",
      "[2, 1, 2, 1, 0, 2, 1, 2, 0, 2, 0]\n",
      "[2, 1, 0, 0, 2, 0, 0, 1, 1, 2, 1]\n",
      "---------------------------------\n",
      "Average Fitness Of population:\n",
      " 135.0\n",
      "bestFitness:\n",
      "90\n",
      "bestIndividual:\n",
      "[2, 1, 2, 1, 0, 2, 1, 2, 0, 2, 0]\n"
     ]
    }
   ],
   "source": [
    "#update fitness values\n",
    "offspring.evaluateFitness()\n",
    "offspring.print_info()"
   ]
  },
  {
   "cell_type": "code",
   "execution_count": 9,
   "metadata": {},
   "outputs": [
    {
     "name": "stdout",
     "output_type": "stream",
     "text": [
      "--------------------------------[INFO]---------------------------------------------------\n",
      "MODE:               MIN\n",
      "ProblemType:        Problem1\n",
      "Population Size:    10\n",
      "CrossOverFraction:  0.6\n",
      "--------------------------------\n",
      "Fitness Function:\n",
      " <bound method CalulateEnergy of <Population.Population object at 0x0000026E03CBB5B0>>\n",
      "Interaction Matrix:\n",
      "[[10, 4, 1], [4, 10, 5], [1, 5, 10]]\n",
      "SelfEnergyVector:\n",
      "[1, 2, 3]\n",
      "NumOfParticles: 3\n",
      "---------------------------------\n",
      "SequenceLength:\n",
      " 11\n",
      "----------------------------------\n",
      "Population:\n",
      "\n",
      "[2, 1, 2, 1, 0, 2, 1, 2, 0, 2, 0]\n",
      "[0, 0, 2, 0, 0, 2, 1, 0, 1, 0, 2]\n",
      "[0, 1, 2, 2, 0, 2, 0, 0, 1, 0, 2]\n",
      "[1, 0, 2, 0, 2, 1, 1, 0, 1, 1, 2]\n",
      "[0, 1, 0, 1, 0, 1, 0, 2, 1, 1, 1]\n",
      "[0, 1, 1, 0, 2, 0, 1, 1, 2, 1, 2]\n",
      "[1, 0, 0, 0, 2, 0, 2, 2, 0, 0, 1]\n",
      "[2, 0, 1, 2, 0, 2, 1, 1, 1, 1, 0]\n",
      "[0, 2, 1, 0, 0, 2, 2, 1, 0, 2, 2]\n",
      "[1, 0, 0, 0, 2, 1, 0, 0, 2, 0, 0]\n",
      "---------------------------------\n",
      "Average Fitness Of population:\n",
      " 114.6\n",
      "bestFitness:\n",
      "90\n",
      "bestIndividual:\n",
      "[2, 1, 2, 1, 0, 2, 1, 2, 0, 2, 0]\n"
     ]
    }
   ],
   "source": [
    "#survivor selection: elitist truncation using parents+offspring\n",
    "population.combinePops(offspring)\n",
    "population.truncateSelect(populationSize)\n",
    "population.evaluateFitness()\n",
    "population.print_info()"
   ]
  },
  {
   "cell_type": "code",
   "execution_count": 10,
   "metadata": {},
   "outputs": [],
   "source": [
    "from torch import i0_\n",
    "\n",
    "\n",
    "generationCountList = []\n",
    "bestFitnessList = []\n",
    "generationNeeded = 0\n",
    "for i in range(numOfGenerations):\n",
    "    if population.bestFitness == 41: \n",
    "        generationNeeded = i\n",
    "        break\n",
    "    offspring=population.copy()\n",
    "    offspring.mutate()\n",
    "\n",
    "    offspring.evaluateFitness()\n",
    "    offspring.conductTournament()\n",
    "\n",
    "    #survivor selection: elitist truncation using parents+offspring\n",
    "    population.combinePops(offspring)\n",
    "    population.truncateSelect(populationSize)\n",
    "    population.evaluateFitness()\n",
    "    \n",
    "    generationCountList.append(i)\n",
    "    bestFitnessList.append(population.bestFitness)\n",
    "    \n",
    "    "
   ]
  },
  {
   "cell_type": "code",
   "execution_count": 11,
   "metadata": {},
   "outputs": [
    {
     "name": "stdout",
     "output_type": "stream",
     "text": [
      "--------------------------------[INFO]---------------------------------------------------\n",
      "MODE:               MIN\n",
      "ProblemType:        Problem1\n",
      "Population Size:    10\n",
      "CrossOverFraction:  0.6\n",
      "--------------------------------\n",
      "Fitness Function:\n",
      " <bound method CalulateEnergy of <Population.Population object at 0x0000026E03CBB5B0>>\n",
      "Interaction Matrix:\n",
      "[[10, 4, 1], [4, 10, 5], [1, 5, 10]]\n",
      "SelfEnergyVector:\n",
      "[1, 2, 3]\n",
      "NumOfParticles: 3\n",
      "---------------------------------\n",
      "SequenceLength:\n",
      " 11\n",
      "----------------------------------\n",
      "Population:\n",
      "\n",
      "[0, 2, 0, 2, 0, 2, 0, 2, 0, 2, 0]\n",
      "[0, 2, 0, 2, 0, 2, 0, 2, 0, 2, 0]\n",
      "[2, 0, 2, 0, 2, 0, 2, 0, 2, 1, 0]\n",
      "[2, 0, 2, 0, 2, 0, 2, 0, 2, 1, 0]\n",
      "[0, 2, 0, 2, 1, 2, 0, 2, 0, 2, 0]\n",
      "[0, 2, 0, 2, 1, 2, 0, 2, 0, 2, 0]\n",
      "[2, 0, 2, 0, 2, 0, 0, 2, 0, 2, 0]\n",
      "[2, 0, 2, 0, 2, 0, 0, 2, 0, 2, 0]\n",
      "[0, 2, 0, 2, 0, 2, 0, 0, 2, 0, 2]\n",
      "[0, 2, 0, 2, 0, 2, 0, 0, 2, 0, 2]\n",
      "---------------------------------\n",
      "Average Fitness Of population:\n",
      " 54.6\n",
      "bestFitness:\n",
      "41\n",
      "bestIndividual:\n",
      "[0, 2, 0, 2, 0, 2, 0, 2, 0, 2, 0]\n"
     ]
    }
   ],
   "source": [
    "population.print_info()"
   ]
  },
  {
   "cell_type": "code",
   "execution_count": 12,
   "metadata": {},
   "outputs": [],
   "source": [
    "import matplotlib.pyplot as plt\n",
    "\n",
    "def plot_graph(data,generationCount,title):\n",
    "    plt.title(title)\n",
    "    plt.plot(generationCount,data)\n",
    "    plt.show()"
   ]
  },
  {
   "cell_type": "code",
   "execution_count": 14,
   "metadata": {},
   "outputs": [
    {
     "name": "stdout",
     "output_type": "stream",
     "text": [
      "--------------------------------[INFO]---------------------------------------------------\n",
      "MODE:               MIN\n",
      "ProblemType:        Problem1\n",
      "Population Size:    10\n",
      "CrossOverFraction:  0.6\n",
      "--------------------------------\n",
      "Fitness Function:\n",
      " <bound method CalulateEnergy of <Population.Population object at 0x0000026E03CBB5B0>>\n",
      "Interaction Matrix:\n",
      "[[10, 4, 1], [4, 10, 5], [1, 5, 10]]\n",
      "SelfEnergyVector:\n",
      "[1, 2, 3]\n",
      "NumOfParticles: 3\n",
      "---------------------------------\n",
      "SequenceLength:\n",
      " 11\n",
      "----------------------------------\n",
      "Population:\n",
      "\n",
      "[0, 2, 0, 2, 0, 2, 0, 2, 0, 2, 0]\n",
      "[0, 2, 0, 2, 0, 2, 0, 2, 0, 2, 0]\n",
      "[2, 0, 2, 0, 2, 0, 2, 0, 2, 1, 0]\n",
      "[2, 0, 2, 0, 2, 0, 2, 0, 2, 1, 0]\n",
      "[0, 2, 0, 2, 1, 2, 0, 2, 0, 2, 0]\n",
      "[0, 2, 0, 2, 1, 2, 0, 2, 0, 2, 0]\n",
      "[2, 0, 2, 0, 2, 0, 0, 2, 0, 2, 0]\n",
      "[2, 0, 2, 0, 2, 0, 0, 2, 0, 2, 0]\n",
      "[0, 2, 0, 2, 0, 2, 0, 0, 2, 0, 2]\n",
      "[0, 2, 0, 2, 0, 2, 0, 0, 2, 0, 2]\n",
      "---------------------------------\n",
      "Average Fitness Of population:\n",
      " 54.6\n",
      "bestFitness:\n",
      "41\n",
      "bestIndividual:\n",
      "[0, 2, 0, 2, 0, 2, 0, 2, 0, 2, 0]\n"
     ]
    },
    {
     "data": {
      "image/png": "[encoded data removed]",
      "text/plain": [
       "<Figure size 432x288 with 1 Axes>"
      ]
     },
     "metadata": {
      "needs_background": "light"
     },
     "output_type": "display_data"
    },
    {
     "name": "stdout",
     "output_type": "stream",
     "text": [
      "Best Fitness is : 41\n",
      "Generation Needed: 423\n"
     ]
    }
   ],
   "source": [
    "population.print_info()\n",
    "plot_graph(generationCount = generationCountList,data = bestFitnessList,title = 'BestFitness')\n",
    "print(f\"Best Fitness is : {population.bestFitness}\")\n",
    "print(f\"Generation Needed: {generationNeeded}\")"
   ]
  }
 ],
 "metadata": {
  "kernelspec": {
   "display_name": "Python 3.9.12 ('base')",
   "language": "python",
   "name": "python3"
  },
  "language_info": {
   "codemirror_mode": {
    "name": "ipython",
    "version": 3
   },
   "file_extension": ".py",
   "mimetype": "text/x-python",
   "name": "python",
   "nbconvert_exporter": "python",
   "pygments_lexer": "ipython3",
   "version": "3.9.12"
  },
  "orig_nbformat": 4,
  "vscode": {
   "interpreter": {
    "hash": "99b59deff7827a9d9c876a01001fad615b615040f915a980cea8ff96b4e320a5"
   }
  }
 },
 "nbformat": 4,
 "nbformat_minor": 2
}
