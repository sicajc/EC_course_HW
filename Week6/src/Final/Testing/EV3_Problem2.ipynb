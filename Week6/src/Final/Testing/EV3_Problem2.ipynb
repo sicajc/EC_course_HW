{
 "cells": [
  {
   "cell_type": "code",
   "execution_count": null,
   "metadata": {},
   "outputs": [],
   "source": [
    "import sys\n",
    "sys.path.append(\"..\")\n",
    "from fitnessFunc import *\n",
    "import copy\n",
    "import math\n",
    "from operator import attrgetter\n",
    "from Individual import *\n",
    "from Population import Population"
   ]
  },
  {
   "cell_type": "code",
   "execution_count": null,
   "metadata": {},
   "outputs": [],
   "source": [
    "\n",
    "# Set Parameters\n",
    "randomSeed = 1234\n",
    "problemType = \"Problem2\"\n",
    "mode = 'MIN'\n",
    "minLimit = -5.12\n",
    "maxLimit = 5.12\n",
    "crossoverFraction = 0.8\n",
    "populationSize    = 20\n",
    "sequenceLength    = 2 \n",
    "numOfGenerations  = 1000\n",
    "\n",
    "#PROBLEM1\n",
    "interactionEnergyMatrix = [[10,4,1],[4,10,5],[1,5,10]]\n",
    "selfEnergyVector  = [1,2,3]\n",
    "numParticleType   = 3\n",
    "\n",
    "#Pick fitness function\n",
    "if problemType == \"Problem1\":\n",
    "    fitnessFunction = CalulateEnergy\n",
    "else:\n",
    "    fitnessFunction = N_Dimensional_Rastrigin\n",
    "\n",
    "#start random number generators\n",
    "uniprng=Random()\n",
    "uniprng.seed(randomSeed)\n",
    "normprng=Random()\n",
    "normprng.seed(randomSeed+101)\n",
    "#set static params on classes\n",
    "Individual.problemType = problemType\n",
    "Individual.minLimit=minLimit\n",
    "Individual.maxLimit=maxLimit\n",
    "Individual.fitFunc= fitnessFunction\n",
    "Individual.uniprng=uniprng\n",
    "Individual.normprng=normprng\n",
    "\n",
    "Population.problemType= problemType\n",
    "Population.mode       = mode\n",
    "Population.uniprng=uniprng\n",
    "Population.crossoverFraction = crossoverFraction\n",
    "Population.numParticleType  = numParticleType\n",
    "Population.fitFunc= fitnessFunction\n",
    "\n",
    "#For Problem1\n",
    "Population.interactionEnergyMatrix = interactionEnergyMatrix\n",
    "Population.selfEnergyVector = selfEnergyVector\n",
    "\n",
    "#create initial Population (random initialization)\n",
    "population=Population(populationSize = populationSize,\n",
    "                      sequenceLength = sequenceLength)"
   ]
  },
  {
   "cell_type": "code",
   "execution_count": null,
   "metadata": {},
   "outputs": [
    {
     "name": "stdout",
     "output_type": "stream",
     "text": [
      "--------------------------------[INFO]---------------------------------------------------\n",
      "MODE:               MIN\n",
      "ProblemType:        Problem2\n",
      "Population Size:    20\n",
      "CrossOverFraction:  0.8\n",
      "--------------------------------\n",
      "Fitness Function:\n",
      " <bound method N_Dimensional_Rastrigin of <Population.Population object at 0x00000205C1FF0F70>>\n",
      "---------------------------------\n",
      "SequenceLength:\n",
      " 2\n",
      "----------------------------------\n",
      "Population:\n",
      "\n",
      "[4.776484205487502, -0.6068981844443888]\n",
      "[4.208393855479032, 4.4981145330049435]\n",
      "[1.7568100504369673, -4.26047255718826]\n",
      "[-2.6950679002816744, -4.804464417519514]\n",
      "[-1.5760489922854597, 1.2624023044010855]\n",
      "[-3.5988004996271354, -3.2451517705223]\n",
      "[-4.9703036878140505, -0.1356642242072743]\n",
      "[-4.458882242793615, 0.4207430200435738]\n",
      "[1.0389857235051672, -4.209368780895618]\n",
      "[-2.35944444088885, 0.5778694200956478]\n",
      "[-0.19418755720685077, -1.4823511301838503]\n",
      "[4.4391986999536295, -0.477306680560706]\n",
      "[-4.922372440988499, 0.0829637199850719]\n",
      "[-3.647811301421103, -0.27825228444255945]\n",
      "[-4.565245965863498, 0.8962919232621509]\n",
      "[0.5870616314006334, -3.642923810796459]\n",
      "[2.7748349083624957, 4.678995172857912]\n",
      "[-1.9927786671339662, -4.714602247905673]\n",
      "[3.1386880523837837, -3.3040073187506787]\n",
      "[4.656319034392523, -3.5373936630881997]\n",
      "---------------------------------\n",
      "Average Fitness Of population:\n",
      " None\n",
      "bestFitness:\n",
      "None\n",
      "bestIndividual:\n",
      "None\n"
     ]
    }
   ],
   "source": [
    "population.print_info()"
   ]
  },
  {
   "cell_type": "markdown",
   "metadata": {},
   "source": [
    "# Test Funcnality"
   ]
  },
  {
   "cell_type": "code",
   "execution_count": null,
   "metadata": {},
   "outputs": [
    {
     "name": "stdout",
     "output_type": "stream",
     "text": [
      "--------------------------------[INFO]---------------------------------------------------\n",
      "MODE:               MIN\n",
      "ProblemType:        Problem2\n",
      "Population Size:    20\n",
      "CrossOverFraction:  0.8\n",
      "--------------------------------\n",
      "Fitness Function:\n",
      " <bound method N_Dimensional_Rastrigin of <Population.Population object at 0x00000205C1CB71C0>>\n",
      "---------------------------------\n",
      "SequenceLength:\n",
      " 2\n",
      "----------------------------------\n",
      "Population:\n",
      "\n",
      "[4.776484205487502, -0.6068981844443888]\n",
      "[4.208393855479032, 4.4981145330049435]\n",
      "[1.7568100504369673, -4.26047255718826]\n",
      "[-2.6950679002816744, -4.804464417519514]\n",
      "[-1.5760489922854597, 1.2624023044010855]\n",
      "[-3.5988004996271354, -3.2451517705223]\n",
      "[-4.9703036878140505, -0.1356642242072743]\n",
      "[-4.458882242793615, 0.4207430200435738]\n",
      "[1.0389857235051672, -4.209368780895618]\n",
      "[-2.35944444088885, 0.5778694200956478]\n",
      "[-0.19418755720685077, -1.4823511301838503]\n",
      "[4.4391986999536295, -0.477306680560706]\n",
      "[-4.922372440988499, 0.0829637199850719]\n",
      "[-3.647811301421103, -0.27825228444255945]\n",
      "[-4.565245965863498, 0.8962919232621509]\n",
      "[0.5870616314006334, -3.642923810796459]\n",
      "[2.7748349083624957, 4.678995172857912]\n",
      "[-1.9927786671339662, -4.714602247905673]\n",
      "[3.1386880523837837, -3.3040073187506787]\n",
      "[4.656319034392523, -3.5373936630881997]\n",
      "---------------------------------\n",
      "Average Fitness Of population:\n",
      " None\n",
      "bestFitness:\n",
      "None\n",
      "bestIndividual:\n",
      "None\n"
     ]
    }
   ],
   "source": [
    "#create initial offspring population by copying parent pop\n",
    "offspring=population.copy()\n",
    "\n",
    "offspring.print_info()"
   ]
  },
  {
   "cell_type": "code",
   "execution_count": null,
   "metadata": {},
   "outputs": [
    {
     "name": "stdout",
     "output_type": "stream",
     "text": [
      "--------------------------------[INFO]---------------------------------------------------\n",
      "MODE:               MIN\n",
      "ProblemType:        Problem2\n",
      "Population Size:    20\n",
      "CrossOverFraction:  0.8\n",
      "--------------------------------\n",
      "Fitness Function:\n",
      " <bound method N_Dimensional_Rastrigin of <Population.Population object at 0x00000205C1CB71C0>>\n",
      "---------------------------------\n",
      "SequenceLength:\n",
      " 2\n",
      "----------------------------------\n",
      "Population:\n",
      "\n",
      "[1.0389857235051672, -4.209368780895618]\n",
      "[-0.19418755720685077, -1.4823511301838503]\n",
      "[4.4391986999536295, -0.477306680560706]\n",
      "[1.0389857235051672, -4.209368780895618]\n",
      "[-2.6950679002816744, -4.804464417519514]\n",
      "[-4.922372440988499, 0.0829637199850719]\n",
      "[-4.565245965863498, 0.8962919232621509]\n",
      "[-3.647811301421103, -0.27825228444255945]\n",
      "[1.7568100504369673, -4.26047255718826]\n",
      "[-1.5760489922854597, 1.2624023044010855]\n",
      "[-0.19418755720685077, -1.4823511301838503]\n",
      "[-1.9927786671339662, -4.714602247905673]\n",
      "[-4.9703036878140505, -0.1356642242072743]\n",
      "[-2.35944444088885, 0.5778694200956478]\n",
      "[-1.9927786671339662, -4.714602247905673]\n",
      "[0.5870616314006334, -3.642923810796459]\n",
      "[-2.6950679002816744, -4.804464417519514]\n",
      "[-4.922372440988499, 0.0829637199850719]\n",
      "[3.1386880523837837, -3.3040073187506787]\n",
      "[-3.5988004996271354, -3.2451517705223]\n",
      "---------------------------------\n",
      "Average Fitness Of population:\n",
      " None\n",
      "bestFitness:\n",
      "None\n",
      "bestIndividual:\n",
      "None\n"
     ]
    }
   ],
   "source": [
    "#select mating pool\n",
    "offspring.conductTournament()\n",
    "\n",
    "offspring.print_info()"
   ]
  },
  {
   "cell_type": "code",
   "execution_count": null,
   "metadata": {},
   "outputs": [
    {
     "name": "stdout",
     "output_type": "stream",
     "text": [
      "--------------------------------[INFO]---------------------------------------------------\n",
      "MODE:               MIN\n",
      "ProblemType:        Problem2\n",
      "Population Size:    20\n",
      "CrossOverFraction:  0.8\n",
      "--------------------------------\n",
      "Fitness Function:\n",
      " <bound method N_Dimensional_Rastrigin of <Population.Population object at 0x00000205C1CB71C0>>\n",
      "---------------------------------\n",
      "SequenceLength:\n",
      " 2\n",
      "----------------------------------\n",
      "Population:\n",
      "\n",
      "[1.0389857235051672, -4.209368780895618]\n",
      "[-0.19418755720685077, -1.4823511301838503]\n",
      "[4.4391986999536295, -0.477306680560706]\n",
      "[1.0389857235051672, -4.209368780895618]\n",
      "[-2.6950679002816744, -4.804464417519514]\n",
      "[-4.922372440988499, 0.0829637199850719]\n",
      "[-4.565245965863498, 0.8962919232621509]\n",
      "[-3.647811301421103, -0.27825228444255945]\n",
      "[1.7568100504369673, -4.26047255718826]\n",
      "[-1.5760489922854597, 1.2624023044010855]\n",
      "[-0.19418755720685077, -1.4823511301838503]\n",
      "[-1.9927786671339662, -4.714602247905673]\n",
      "[-4.9703036878140505, -0.1356642242072743]\n",
      "[-2.35944444088885, 0.5778694200956478]\n",
      "[-1.9927786671339662, -4.714602247905673]\n",
      "[0.5870616314006334, -3.642923810796459]\n",
      "[-2.6950679002816744, -4.804464417519514]\n",
      "[-4.922372440988499, 0.0829637199850719]\n",
      "[3.1386880523837837, -3.3040073187506787]\n",
      "[-3.5988004996271354, -3.2451517705223]\n",
      "---------------------------------\n",
      "Average Fitness Of population:\n",
      " None\n",
      "bestFitness:\n",
      "None\n",
      "bestIndividual:\n",
      "None\n"
     ]
    }
   ],
   "source": [
    "#perform crossover\n",
    "offspring.crossover()\n",
    "\n",
    "offspring.print_info()"
   ]
  },
  {
   "cell_type": "code",
   "execution_count": null,
   "metadata": {},
   "outputs": [
    {
     "name": "stdout",
     "output_type": "stream",
     "text": [
      "--------------------------------[INFO]---------------------------------------------------\n",
      "MODE:               MIN\n",
      "ProblemType:        Problem2\n",
      "Population Size:    20\n",
      "CrossOverFraction:  0.8\n",
      "--------------------------------\n",
      "Fitness Function:\n",
      " <bound method N_Dimensional_Rastrigin of <Population.Population object at 0x00000205C1CB71C0>>\n",
      "---------------------------------\n",
      "SequenceLength:\n",
      " 2\n",
      "----------------------------------\n",
      "Population:\n",
      "\n",
      "[-0.9884435566708367, -2.9440656804967302]\n",
      "[-5.12, -4.349499902692118]\n",
      "[3.2513878758598667, 0.6584892263116355]\n",
      "[1.9279433268160604, -5.12]\n",
      "[-5.12, 3.8362595777094457]\n",
      "[-0.7761308477454625, -5.12]\n",
      "[-3.3610288718907024, 1.2373857806020618]\n",
      "[-5.12, 5.12]\n",
      "[5.12, 2.449298185337539]\n",
      "[-5.12, 1.4781943695890307]\n",
      "[5.12, -5.12]\n",
      "[2.6484568404955207, 5.12]\n",
      "[-1.6556325089544859, -0.1388750114269417]\n",
      "[5.12, -1.6758343426382276]\n",
      "[-5.12, -2.4125547805757845]\n",
      "[0.3362817790764048, -2.1636062660213033]\n",
      "[-5.12, -5.12]\n",
      "[-5.12, -0.8393447238695808]\n",
      "[-5.12, 5.12]\n",
      "[-3.492968960355373, -5.112527971932047]\n",
      "---------------------------------\n",
      "Average Fitness Of population:\n",
      " None\n",
      "bestFitness:\n",
      "None\n",
      "bestIndividual:\n",
      "None\n"
     ]
    }
   ],
   "source": [
    "#random mutation\n",
    "offspring.mutate()\n",
    "offspring.print_info()"
   ]
  },
  {
   "cell_type": "code",
   "execution_count": null,
   "metadata": {},
   "outputs": [
    {
     "name": "stdout",
     "output_type": "stream",
     "text": [
      "--------------------------------[INFO]---------------------------------------------------\n",
      "MODE:               MIN\n",
      "ProblemType:        Problem2\n",
      "Population Size:    20\n",
      "CrossOverFraction:  0.8\n",
      "--------------------------------\n",
      "Fitness Function:\n",
      " <bound method N_Dimensional_Rastrigin of <Population.Population object at 0x00000205C1CB71C0>>\n",
      "---------------------------------\n",
      "SequenceLength:\n",
      " 2\n",
      "----------------------------------\n",
      "Population:\n",
      "\n",
      "[-0.9884435566708367, -2.9440656804967302]\n",
      "[-5.12, -4.349499902692118]\n",
      "[3.2513878758598667, 0.6584892263116355]\n",
      "[1.9279433268160604, -5.12]\n",
      "[-5.12, 3.8362595777094457]\n",
      "[-0.7761308477454625, -5.12]\n",
      "[-3.3610288718907024, 1.2373857806020618]\n",
      "[-5.12, 5.12]\n",
      "[5.12, 2.449298185337539]\n",
      "[-5.12, 1.4781943695890307]\n",
      "[5.12, -5.12]\n",
      "[2.6484568404955207, 5.12]\n",
      "[-1.6556325089544859, -0.1388750114269417]\n",
      "[5.12, -1.6758343426382276]\n",
      "[-5.12, -2.4125547805757845]\n",
      "[0.3362817790764048, -2.1636062660213033]\n",
      "[-5.12, -5.12]\n",
      "[-5.12, -0.8393447238695808]\n",
      "[-5.12, 5.12]\n",
      "[-3.492968960355373, -5.112527971932047]\n",
      "---------------------------------\n",
      "Average Fitness Of population:\n",
      " 44.94808362838265\n",
      "bestFitness:\n",
      "10.282133742535768\n",
      "bestIndividual:\n",
      "[-0.9884435566708367, -2.9440656804967302]\n"
     ]
    }
   ],
   "source": [
    "#update fitness values\n",
    "offspring.evaluateFitness()\n",
    "offspring.print_info()"
   ]
  },
  {
   "cell_type": "code",
   "execution_count": null,
   "metadata": {},
   "outputs": [
    {
     "name": "stdout",
     "output_type": "stream",
     "text": [
      "--------------------------------[INFO]---------------------------------------------------\n",
      "MODE:               MIN\n",
      "ProblemType:        Problem2\n",
      "Population Size:    20\n",
      "CrossOverFraction:  0.8\n",
      "--------------------------------\n",
      "Fitness Function:\n",
      " <bound method N_Dimensional_Rastrigin of <Population.Population object at 0x00000205C1FF0F70>>\n",
      "---------------------------------\n",
      "SequenceLength:\n",
      " 2\n",
      "----------------------------------\n",
      "Population:\n",
      "\n",
      "[-0.9884435566708367, -2.9440656804967302]\n",
      "[-1.6556325089544859, -0.1388750114269417]\n",
      "[0.3362817790764048, -2.1636062660213033]\n",
      "[1.0389857235051672, -4.209368780895618]\n",
      "[-4.922372440988499, 0.0829637199850719]\n",
      "[-4.9703036878140505, -0.1356642242072743]\n",
      "[-0.19418755720685077, -1.4823511301838503]\n",
      "[1.9279433268160604, -5.12]\n",
      "[-1.5760489922854597, 1.2624023044010855]\n",
      "[-5.12, -0.8393447238695808]\n",
      "[3.2513878758598667, 0.6584892263116355]\n",
      "[3.1386880523837837, -3.3040073187506787]\n",
      "[-0.7761308477454625, -5.12]\n",
      "[-1.9927786671339662, -4.714602247905673]\n",
      "[-3.3610288718907024, 1.2373857806020618]\n",
      "[-2.35944444088885, 0.5778694200956478]\n",
      "[-3.647811301421103, -0.27825228444255945]\n",
      "[1.7568100504369673, -4.26047255718826]\n",
      "[-4.565245965863498, 0.8962919232621509]\n",
      "[5.12, -1.6758343426382276]\n",
      "---------------------------------\n",
      "Average Fitness Of population:\n",
      " 33.538253248219995\n",
      "bestFitness:\n",
      "10.282133742535768\n",
      "bestIndividual:\n",
      "[-0.9884435566708367, -2.9440656804967302]\n"
     ]
    }
   ],
   "source": [
    "#survivor selection: elitist truncation using parents+offspring\n",
    "population.combinePops(offspring)\n",
    "population.truncateSelect(populationSize)\n",
    "population.evaluateFitness()\n",
    "population.print_info()"
   ]
  },
  {
   "cell_type": "code",
   "execution_count": null,
   "metadata": {},
   "outputs": [],
   "source": [
    "\n",
    "\n",
    "generationCountList = []\n",
    "bestFitnessList = []\n",
    "for i in range(numOfGenerations):\n",
    "    offspring=population.copy()\n",
    "    offspring.mutate()\n",
    "\n",
    "    offspring.evaluateFitness()\n",
    "    offspring.conductTournament()\n",
    "\n",
    "    #survivor selection: elitist truncation using parents+offspring\n",
    "    population.combinePops(offspring)\n",
    "    population.truncateSelect(populationSize)\n",
    "    population.evaluateFitness()\n",
    "    \n",
    "    generationCountList.append(i)\n",
    "    bestFitnessList.append(population.bestFitness)\n",
    "    "
   ]
  },
  {
   "cell_type": "code",
   "execution_count": null,
   "metadata": {},
   "outputs": [
    {
     "name": "stdout",
     "output_type": "stream",
     "text": [
      "--------------------------------[INFO]---------------------------------------------------\n",
      "MODE:               MIN\n",
      "ProblemType:        Problem2\n",
      "Population Size:    20\n",
      "CrossOverFraction:  0.8\n",
      "--------------------------------\n",
      "Fitness Function:\n",
      " <bound method N_Dimensional_Rastrigin of <Population.Population object at 0x00000205C1FF0F70>>\n",
      "---------------------------------\n",
      "SequenceLength:\n",
      " 2\n",
      "----------------------------------\n",
      "Population:\n",
      "\n",
      "[-0.9949586382480655, -0.9949586359889988]\n",
      "[-0.9949586382480655, -0.9949586359889988]\n",
      "[-0.9949586375934416, -0.9949586372111199]\n",
      "[-0.9949586375934416, -0.9949586372111199]\n",
      "[-0.9949586379341566, -0.9949586384920774]\n",
      "[-0.9949586379341566, -0.9949586384920774]\n",
      "[-0.9949586353625239, -0.994958636449101]\n",
      "[-0.9949586353625239, -0.994958636449101]\n",
      "[-0.9949586389230012, -0.9949586386131575]\n",
      "[-0.9949586389230012, -0.9949586386131575]\n",
      "[-0.9949586377278168, -0.9949586354905637]\n",
      "[-0.9949586375726156, -0.9949586361147729]\n",
      "[-0.9949586377278168, -0.9949586354905637]\n",
      "[-0.9949586375726156, -0.9949586361147729]\n",
      "[-0.9949586384701172, -0.9949586376492379]\n",
      "[-0.9949586384701172, -0.9949586376492379]\n",
      "[-0.9949586382126725, -0.9949586367935757]\n",
      "[-0.9949586361323863, -0.9949586370714245]\n",
      "[-0.9949586382126725, -0.9949586367935757]\n",
      "[-0.9949586361323863, -0.9949586370714245]\n",
      "---------------------------------\n",
      "Average Fitness Of population:\n",
      " 1.9899181141865796\n",
      "bestFitness:\n",
      "1.9899181141865796\n",
      "bestIndividual:\n",
      "[-0.9949586382480655, -0.9949586359889988]\n"
     ]
    }
   ],
   "source": [
    "population.print_info()"
   ]
  },
  {
   "cell_type": "code",
   "execution_count": null,
   "metadata": {},
   "outputs": [],
   "source": [
    "import matplotlib.pyplot as plt\n",
    "\n",
    "def plot_graph(data,generationCount,title):\n",
    "    plt.title(title)\n",
    "    plt.plot(generationCount,data)\n",
    "    plt.show()"
   ]
  },
  {
   "cell_type": "code",
   "execution_count": null,
   "metadata": {},
   "outputs": [
    {
     "data": {
      "image/png": "[encoded data removed]",
      "text/plain": [
       "<Figure size 432x288 with 1 Axes>"
      ]
     },
     "metadata": {
      "needs_background": "light"
     },
     "output_type": "display_data"
    },
    {
     "name": "stdout",
     "output_type": "stream",
     "text": [
      "Best Fitness is : 1.9899181141865796\n"
     ]
    }
   ],
   "source": [
    "plot_graph(generationCount = generationCountList,data = bestFitnessList,title = 'BestFitness')\n",
    "print(f\"Best Fitness is : {population.bestFitness}\")"
   ]
  },
  {
   "cell_type": "code",
   "execution_count": null,
   "metadata": {},
   "outputs": [],
   "source": [
    "from matplotlib import cm\n",
    "import matplotlib.pyplot as plt\n",
    "import numpy as np\n",
    "\n",
    "x,y = population.bestIndividual\n",
    "z   = population.bestFitness\n",
    "\n",
    "filepath = \"../Result/\"\n",
    "\n",
    "#Generate 3-D Plot for Rastrigin function and its MIN and MAX\n",
    "fig = plt.figure(figsize=(4,4))\n",
    "ax = fig.add_subplot(projection='3d')\n",
    "fitness =[]\n",
    "title = \"3-D Rastrigrin Function\"\n",
    "\n",
    "#Use sampling point to enable better Plot\n",
    "x1 = np.arange(minLimit,maxLimit,0.01).astype('float16')\n",
    "x2 = np.arange(minLimit,maxLimit,0.01).astype('float16')\n",
    "X, Y = np.meshgrid(x1, x2)\n",
    "zs = np.array([N_Dimensional_Rastrigin([x,y]) for x,y in zip(np.ravel(X), np.ravel(Y))])\n",
    "zs =zs.reshape(X.shape)\n",
    "\n",
    "#Plot function is better\n",
    "ax.plot_surface(X, Y, zs, cmap = cm.ocean)\n",
    "ax.scatter(x,y,z, c = 'r', marker='o')\n",
    "ax.text(x, y, z, population.mode + f'({x:.3},{y:.3},{z:.3})', color='red',size = 50)\n",
    "ax.set_title(title)\n",
    "ax.set_xlabel(\"x1\")\n",
    "ax.set_ylabel(\"x2\")\n",
    "plt.savefig(filepath + title +\".png\")\n",
    "plt.show()\n"
   ]
  },
  {
   "cell_type": "code",
   "execution_count": null,
   "metadata": {},
   "outputs": [],
   "source": []
  }
 ],
 "metadata": {
  "kernelspec": {
   "display_name": "Python 3.9.12 ('base')",
   "language": "python",
   "name": "python3"
  },
  "language_info": {
   "codemirror_mode": {
    "name": "ipython",
    "version": 3
   },
   "file_extension": ".py",
   "mimetype": "text/x-python",
   "name": "python",
   "nbconvert_exporter": "python",
   "pygments_lexer": "ipython3",
   "version": "3.9.12"
  },
  "orig_nbformat": 4,
  "vscode": {
   "interpreter": {
    "hash": "99b59deff7827a9d9c876a01001fad615b615040f915a980cea8ff96b4e320a5"
   }
  }
 },
 "nbformat": 4,
 "nbformat_minor": 2
}
