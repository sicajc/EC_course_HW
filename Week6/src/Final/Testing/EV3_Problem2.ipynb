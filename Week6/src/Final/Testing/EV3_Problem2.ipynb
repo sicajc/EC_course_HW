{
 "cells": [
  {
   "cell_type": "code",
   "execution_count": 27,
   "metadata": {},
   "outputs": [],
   "source": [
    "import sys\n",
    "sys.path.append(\"..\")\n",
    "\n",
    "from fitnessFunc import *\n",
    "import copy\n",
    "import math\n",
    "from operator import attrgetter\n",
    "from Individual import *\n",
    "from Population import Population"
   ]
  },
  {
   "cell_type": "code",
   "execution_count": 28,
   "metadata": {},
   "outputs": [],
   "source": [
    "# Set Parameters\n",
    "randomSeed = 1234\n",
    "problemType = \"Problem2\"\n",
    "mode = 'MIN'\n",
    "minLimit = -5.12\n",
    "maxLimit = 5.12\n",
    "crossoverFraction = 0.6\n",
    "populationSize    = 10\n",
    "sequenceLength    = 2 \n",
    "numOfGenerations  = 5000\n",
    "\n",
    "#PROBLEM1\n",
    "interactionEnergyMatrix = [[10,4,1],[4,10,5],[1,5,10]]\n",
    "selfEnergyVector  = [1,2,3]\n",
    "numParticleType   = 3\n",
    "\n",
    "#Pick fitness function\n",
    "if problemType == \"Problem1\":\n",
    "    fitnessFunction = CalulateEnergy\n",
    "else:\n",
    "    fitnessFunction = N_Dimensional_Rastrigin\n",
    "\n",
    "#start random number generators\n",
    "uniprng=Random()\n",
    "uniprng.seed(randomSeed)\n",
    "normprng=Random()\n",
    "normprng.seed(randomSeed+101)\n",
    "#set static params on classes\n",
    "Individual.problemType = problemType\n",
    "Individual.minLimit=minLimit\n",
    "Individual.maxLimit=maxLimit\n",
    "Individual.fitFunc= fitnessFunction\n",
    "Individual.uniprng=uniprng\n",
    "Individual.normprng=normprng\n",
    "\n",
    "Population.problemType= problemType\n",
    "Population.mode       = mode\n",
    "Population.uniprng=uniprng\n",
    "Population.crossoverFraction = crossoverFraction\n",
    "Population.numParticleType  = numParticleType\n",
    "Population.fitFunc= fitnessFunction\n",
    "\n",
    "#For Problem1\n",
    "Population.interactionEnergyMatrix = interactionEnergyMatrix\n",
    "Population.selfEnergyVector = selfEnergyVector\n",
    "\n",
    "#create initial Population (random initialization)\n",
    "population=Population(populationSize = populationSize,\n",
    "                      sequenceLength = sequenceLength)"
   ]
  },
  {
   "cell_type": "code",
   "execution_count": 29,
   "metadata": {},
   "outputs": [
    {
     "name": "stdout",
     "output_type": "stream",
     "text": [
      "--------------------------------[INFO]---------------------------------------------------\n",
      "MODE:               MIN\n",
      "ProblemType:        Problem2\n",
      "Population Size:    10\n",
      "CrossOverFraction:  0.6\n",
      "--------------------------------\n",
      "Fitness Function:\n",
      " <bound method N_Dimensional_Rastrigin of <Population.Population object at 0x0000023829FE30A0>>\n",
      "---------------------------------\n",
      "SequenceLength:\n",
      " 2\n",
      "----------------------------------\n",
      "Population:\n",
      "\n",
      "[4.776484205487502, -0.6068981844443888]\n",
      "[4.208393855479032, 4.4981145330049435]\n",
      "[1.7568100504369673, -4.26047255718826]\n",
      "[-2.6950679002816744, -4.804464417519514]\n",
      "[-1.5760489922854597, 1.2624023044010855]\n",
      "[-3.5988004996271354, -3.2451517705223]\n",
      "[-4.9703036878140505, -0.1356642242072743]\n",
      "[-4.458882242793615, 0.4207430200435738]\n",
      "[1.0389857235051672, -4.209368780895618]\n",
      "[-2.35944444088885, 0.5778694200956478]\n",
      "---------------------------------\n",
      "Average Fitness Of population:\n",
      " None\n",
      "bestFitness:\n",
      "None\n",
      "bestIndividual:\n",
      "None\n"
     ]
    }
   ],
   "source": [
    "population.print_info()"
   ]
  },
  {
   "cell_type": "markdown",
   "metadata": {},
   "source": [
    "# Test Funcnality"
   ]
  },
  {
   "cell_type": "code",
   "execution_count": 30,
   "metadata": {},
   "outputs": [
    {
     "name": "stdout",
     "output_type": "stream",
     "text": [
      "--------------------------------[INFO]---------------------------------------------------\n",
      "MODE:               MIN\n",
      "ProblemType:        Problem2\n",
      "Population Size:    10\n",
      "CrossOverFraction:  0.6\n",
      "--------------------------------\n",
      "Fitness Function:\n",
      " <bound method N_Dimensional_Rastrigin of <Population.Population object at 0x0000023829FE7940>>\n",
      "---------------------------------\n",
      "SequenceLength:\n",
      " 2\n",
      "----------------------------------\n",
      "Population:\n",
      "\n",
      "[4.776484205487502, -0.6068981844443888]\n",
      "[4.208393855479032, 4.4981145330049435]\n",
      "[1.7568100504369673, -4.26047255718826]\n",
      "[-2.6950679002816744, -4.804464417519514]\n",
      "[-1.5760489922854597, 1.2624023044010855]\n",
      "[-3.5988004996271354, -3.2451517705223]\n",
      "[-4.9703036878140505, -0.1356642242072743]\n",
      "[-4.458882242793615, 0.4207430200435738]\n",
      "[1.0389857235051672, -4.209368780895618]\n",
      "[-2.35944444088885, 0.5778694200956478]\n",
      "---------------------------------\n",
      "Average Fitness Of population:\n",
      " None\n",
      "bestFitness:\n",
      "None\n",
      "bestIndividual:\n",
      "None\n"
     ]
    }
   ],
   "source": [
    "#create initial offspring population by copying parent pop\n",
    "offspring=population.copy()\n",
    "\n",
    "offspring.print_info()"
   ]
  },
  {
   "cell_type": "code",
   "execution_count": 31,
   "metadata": {},
   "outputs": [
    {
     "name": "stdout",
     "output_type": "stream",
     "text": [
      "--------------------------------[INFO]---------------------------------------------------\n",
      "MODE:               MIN\n",
      "ProblemType:        Problem2\n",
      "Population Size:    10\n",
      "CrossOverFraction:  0.6\n",
      "--------------------------------\n",
      "Fitness Function:\n",
      " <bound method N_Dimensional_Rastrigin of <Population.Population object at 0x0000023829FE7940>>\n",
      "---------------------------------\n",
      "SequenceLength:\n",
      " 2\n",
      "----------------------------------\n",
      "Population:\n",
      "\n",
      "[-2.35944444088885, 0.5778694200956478]\n",
      "[-4.9703036878140505, -0.1356642242072743]\n",
      "[1.7568100504369673, -4.26047255718826]\n",
      "[-1.5760489922854597, 1.2624023044010855]\n",
      "[-4.9703036878140505, -0.1356642242072743]\n",
      "[1.0389857235051672, -4.209368780895618]\n",
      "[1.7568100504369673, -4.26047255718826]\n",
      "[-1.5760489922854597, 1.2624023044010855]\n",
      "[-3.5988004996271354, -3.2451517705223]\n",
      "[1.0389857235051672, -4.209368780895618]\n",
      "---------------------------------\n",
      "Average Fitness Of population:\n",
      " None\n",
      "bestFitness:\n",
      "None\n",
      "bestIndividual:\n",
      "None\n"
     ]
    }
   ],
   "source": [
    "#select mating pool\n",
    "offspring.conductTournament()\n",
    "\n",
    "offspring.print_info()"
   ]
  },
  {
   "cell_type": "code",
   "execution_count": 32,
   "metadata": {},
   "outputs": [
    {
     "name": "stdout",
     "output_type": "stream",
     "text": [
      "--------------------------------[INFO]---------------------------------------------------\n",
      "MODE:               MIN\n",
      "ProblemType:        Problem2\n",
      "Population Size:    10\n",
      "CrossOverFraction:  0.6\n",
      "--------------------------------\n",
      "Fitness Function:\n",
      " <bound method N_Dimensional_Rastrigin of <Population.Population object at 0x0000023829FE7940>>\n",
      "---------------------------------\n",
      "SequenceLength:\n",
      " 2\n",
      "----------------------------------\n",
      "Population:\n",
      "\n",
      "[-2.35944444088885, 0.5778694200956478]\n",
      "[-4.9703036878140505, -0.1356642242072743]\n",
      "[1.7568100504369673, -4.26047255718826]\n",
      "[-1.5760489922854597, 1.2624023044010855]\n",
      "[-4.9703036878140505, -0.1356642242072743]\n",
      "[1.0389857235051672, -4.209368780895618]\n",
      "[1.7568100504369673, -4.26047255718826]\n",
      "[-1.5760489922854597, 1.2624023044010855]\n",
      "[-3.5988004996271354, -3.2451517705223]\n",
      "[1.0389857235051672, -4.209368780895618]\n",
      "---------------------------------\n",
      "Average Fitness Of population:\n",
      " None\n",
      "bestFitness:\n",
      "None\n",
      "bestIndividual:\n",
      "None\n"
     ]
    }
   ],
   "source": [
    "#perform crossover\n",
    "offspring.crossover()\n",
    "\n",
    "offspring.print_info()"
   ]
  },
  {
   "cell_type": "code",
   "execution_count": 33,
   "metadata": {},
   "outputs": [
    {
     "name": "stdout",
     "output_type": "stream",
     "text": [
      "--------------------------------[INFO]---------------------------------------------------\n",
      "MODE:               MIN\n",
      "ProblemType:        Problem2\n",
      "Population Size:    10\n",
      "CrossOverFraction:  0.6\n",
      "--------------------------------\n",
      "Fitness Function:\n",
      " <bound method N_Dimensional_Rastrigin of <Population.Population object at 0x0000023829FE7940>>\n",
      "---------------------------------\n",
      "SequenceLength:\n",
      " 2\n",
      "----------------------------------\n",
      "Population:\n",
      "\n",
      "[-4.1431668039540455, 1.6910768983073128]\n",
      "[-5.12, -0.6597575676917184]\n",
      "[1.0408970440527145, -3.5759097919446594]\n",
      "[-0.7470279552340866, -0.9863398171602062]\n",
      "[-5.12, 3.978714635292108]\n",
      "[3.0616776451576238, -5.12]\n",
      "[2.206067321547078, -4.133220671869639]\n",
      "[-3.6897104099269313, 5.12]\n",
      "[5.12, 5.12]\n",
      "[-3.6717184324232326, -3.9779753801138034]\n",
      "---------------------------------\n",
      "Average Fitness Of population:\n",
      " None\n",
      "bestFitness:\n",
      "None\n",
      "bestIndividual:\n",
      "None\n"
     ]
    }
   ],
   "source": [
    "#random mutation\n",
    "offspring.mutate()\n",
    "offspring.print_info()"
   ]
  },
  {
   "cell_type": "code",
   "execution_count": 34,
   "metadata": {},
   "outputs": [
    {
     "name": "stdout",
     "output_type": "stream",
     "text": [
      "--------------------------------[INFO]---------------------------------------------------\n",
      "MODE:               MIN\n",
      "ProblemType:        Problem2\n",
      "Population Size:    10\n",
      "CrossOverFraction:  0.6\n",
      "--------------------------------\n",
      "Fitness Function:\n",
      " <bound method N_Dimensional_Rastrigin of <Population.Population object at 0x0000023829FE7940>>\n",
      "---------------------------------\n",
      "SequenceLength:\n",
      " 2\n",
      "----------------------------------\n",
      "Population:\n",
      "\n",
      "[-4.1431668039540455, 1.6910768983073128]\n",
      "[-5.12, -0.6597575676917184]\n",
      "[1.0408970440527145, -3.5759097919446594]\n",
      "[-0.7470279552340866, -0.9863398171602062]\n",
      "[-5.12, 3.978714635292108]\n",
      "[3.0616776451576238, -5.12]\n",
      "[2.206067321547078, -4.133220671869639]\n",
      "[-3.6897104099269313, 5.12]\n",
      "[5.12, 5.12]\n",
      "[-3.6717184324232326, -3.9779753801138034]\n",
      "---------------------------------\n",
      "Average Fitness Of population:\n",
      " 40.16154828425876\n",
      "bestFitness:\n",
      "11.754456102858137\n",
      "bestIndividual:\n",
      "[-0.7470279552340866, -0.9863398171602062]\n"
     ]
    }
   ],
   "source": [
    "#update fitness values\n",
    "offspring.evaluateFitness()\n",
    "offspring.print_info()"
   ]
  },
  {
   "cell_type": "code",
   "execution_count": 35,
   "metadata": {},
   "outputs": [
    {
     "name": "stdout",
     "output_type": "stream",
     "text": [
      "--------------------------------[INFO]---------------------------------------------------\n",
      "MODE:               MIN\n",
      "ProblemType:        Problem2\n",
      "Population Size:    10\n",
      "CrossOverFraction:  0.6\n",
      "--------------------------------\n",
      "Fitness Function:\n",
      " <bound method N_Dimensional_Rastrigin of <Population.Population object at 0x0000023829FE30A0>>\n",
      "---------------------------------\n",
      "SequenceLength:\n",
      " 2\n",
      "----------------------------------\n",
      "Population:\n",
      "\n",
      "[-0.7470279552340866, -0.9863398171602062]\n",
      "[1.0389857235051672, -4.209368780895618]\n",
      "[-4.9703036878140505, -0.1356642242072743]\n",
      "[2.206067321547078, -4.133220671869639]\n",
      "[1.0408970440527145, -3.5759097919446594]\n",
      "[-1.5760489922854597, 1.2624023044010855]\n",
      "[-4.1431668039540455, 1.6910768983073128]\n",
      "[3.0616776451576238, -5.12]\n",
      "[-2.35944444088885, 0.5778694200956478]\n",
      "[1.7568100504369673, -4.26047255718826]\n",
      "---------------------------------\n",
      "Average Fitness Of population:\n",
      " 32.499429923422504\n",
      "bestFitness:\n",
      "11.754456102858137\n",
      "bestIndividual:\n",
      "[-0.7470279552340866, -0.9863398171602062]\n"
     ]
    }
   ],
   "source": [
    "#survivor selection: elitist truncation using parents+offspring\n",
    "population.combinePops(offspring)\n",
    "population.truncateSelect(populationSize)\n",
    "population.evaluateFitness()\n",
    "population.print_info()"
   ]
  },
  {
   "cell_type": "code",
   "execution_count": 36,
   "metadata": {},
   "outputs": [],
   "source": [
    "from torch import i0_\n",
    "\n",
    "\n",
    "generationCountList = []\n",
    "bestFitnessList = []\n",
    "for i in range(numOfGenerations):\n",
    "    offspring=population.copy()\n",
    "    offspring.mutate()\n",
    "\n",
    "    offspring.evaluateFitness()\n",
    "    offspring.conductTournament()\n",
    "\n",
    "    #survivor selection: elitist truncation using parents+offspring\n",
    "    population.combinePops(offspring)\n",
    "    population.truncateSelect(populationSize)\n",
    "    population.evaluateFitness()\n",
    "    \n",
    "    generationCountList.append(i)\n",
    "    bestFitnessList.append(population.bestFitness)\n",
    "    \n",
    "    "
   ]
  },
  {
   "cell_type": "code",
   "execution_count": 37,
   "metadata": {},
   "outputs": [
    {
     "name": "stdout",
     "output_type": "stream",
     "text": [
      "--------------------------------[INFO]---------------------------------------------------\n",
      "MODE:               MIN\n",
      "ProblemType:        Problem2\n",
      "Population Size:    10\n",
      "CrossOverFraction:  0.6\n",
      "--------------------------------\n",
      "Fitness Function:\n",
      " <bound method N_Dimensional_Rastrigin of <Population.Population object at 0x0000023829FE30A0>>\n",
      "---------------------------------\n",
      "SequenceLength:\n",
      " 2\n",
      "----------------------------------\n",
      "Population:\n",
      "\n",
      "[-0.994958636120546, -1.5815810883168524e-09]\n",
      "[-0.994958636120546, -1.5815810883168524e-09]\n",
      "[-0.9949586387773586, 1.2224994350162888e-09]\n",
      "[-0.9949586387773586, 1.2224994350162888e-09]\n",
      "[-0.9949586374061292, -8.077405411199834e-10]\n",
      "[-0.9949586374061292, -8.077405411199834e-10]\n",
      "[-0.9949586380314202, -8.781686489101048e-10]\n",
      "[-0.9949586380314202, -8.781686489101048e-10]\n",
      "[-0.9949586378983293, -6.376499328553109e-10]\n",
      "[-0.9949586378983293, -6.376499328553109e-10]\n",
      "---------------------------------\n",
      "Average Fitness Of population:\n",
      " 0.9949590570932898\n",
      "bestFitness:\n",
      "0.9949590570932898\n",
      "bestIndividual:\n",
      "[-0.994958636120546, -1.5815810883168524e-09]\n"
     ]
    }
   ],
   "source": [
    "population.print_info()"
   ]
  },
  {
   "cell_type": "code",
   "execution_count": 38,
   "metadata": {},
   "outputs": [],
   "source": [
    "import matplotlib.pyplot as plt\n",
    "\n",
    "def plot_graph(data,generationCount,title):\n",
    "    plt.title(title)\n",
    "    plt.plot(generationCount,data)\n",
    "    plt.show()"
   ]
  },
  {
   "cell_type": "code",
   "execution_count": 39,
   "metadata": {},
   "outputs": [
    {
     "data": {
      "image/png": "[encoded data removed]",
      "text/plain": [
       "<Figure size 432x288 with 1 Axes>"
      ]
     },
     "metadata": {
      "needs_background": "light"
     },
     "output_type": "display_data"
    },
    {
     "name": "stdout",
     "output_type": "stream",
     "text": [
      "Best Fitness is : 0.9949590570932898\n"
     ]
    }
   ],
   "source": [
    "plot_graph(generationCount = generationCountList,data = bestFitnessList,title = 'BestFitness')\n",
    "print(f\"Best Fitness is : {population.bestFitness}\")"
   ]
  },
  {
   "cell_type": "code",
   "execution_count": null,
   "metadata": {},
   "outputs": [],
   "source": []
  }
 ],
 "metadata": {
  "kernelspec": {
   "display_name": "Python 3.9.12 ('base')",
   "language": "python",
   "name": "python3"
  },
  "language_info": {
   "codemirror_mode": {
    "name": "ipython",
    "version": 3
   },
   "file_extension": ".py",
   "mimetype": "text/x-python",
   "name": "python",
   "nbconvert_exporter": "python",
   "pygments_lexer": "ipython3",
   "version": "3.9.12"
  },
  "orig_nbformat": 4,
  "vscode": {
   "interpreter": {
    "hash": "99b59deff7827a9d9c876a01001fad615b615040f915a980cea8ff96b4e320a5"
   }
  }
 },
 "nbformat": 4,
 "nbformat_minor": 2
}
