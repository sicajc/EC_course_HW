{
 "cells": [
  {
   "cell_type": "code",
   "execution_count": 1,
   "metadata": {},
   "outputs": [],
   "source": [
    "#\n",
    "# Individual.py\n",
    "#\n",
    "#\n",
    "\n",
    "import math\n",
    "import copy\n",
    "from random import Random\n",
    "\n",
    "#A simple 1-D Individual class\n",
    "class Individual:\n",
    "    \"\"\"\n",
    "    Individual\n",
    "    \"\"\"\n",
    "    minSigma=1e-100\n",
    "    maxSigma=1\n",
    "    learningRate=1\n",
    "    minLimit=None\n",
    "    maxLimit=None\n",
    "    uniprng=None\n",
    "    normprng=None\n",
    "    fitFunc=None\n",
    "    problemType = None #Picks which problem it belongs to\n",
    "\n",
    "    def __init__(self,\n",
    "                 latticeLength = None,\n",
    "                 numParticleType = None,\n",
    "                 vectorLength    = None,\n",
    "                 ):\n",
    "        #Different initilzation\n",
    "        if self.problemType == 'Problem2':\n",
    "            self.vectorLength = vectorLength\n",
    "            self.sequence = [self.uniprng.uniform(self.minLimit,self.maxLimit) for _ in range(self.vectorLength)]\n",
    "        else:\n",
    "            self.numParticleType = numParticleType\n",
    "            self.latticeLength = latticeLength\n",
    "            self.sequence = [self.uniprng.randrange(0,self.numParticleType) for _ in range(self.latticeLength)]\n",
    "\n",
    "        self.fit= None\n",
    "        self.sigma=self.uniprng.uniform(0.9,0.1) #use \"normalized\" sigma\n",
    "\n",
    "    def crossover(self, other):\n",
    "        child = copy.deepcopy(self)\n",
    "        child.sequence = []\n",
    "        sequenceLength = len(self.sequence)\n",
    "        #Set alpha\n",
    "        alpha= self.uniprng.uniform(0,1)\n",
    "        #Portion of each sequence\n",
    "        l1_length = int(sequenceLength*alpha)\n",
    "        l2_length = sequenceLength - l1_length\n",
    "        #Portion of self piece and other piece needed for crossOver\n",
    "        #Piece them together Creating new child\n",
    "        s1 = self.uniprng.sample(self.sequence,l1_length)\n",
    "        s2 = self.uniprng.sample(other.sequence,l2_length)\n",
    "        childSequence = s1 + s2\n",
    "        child.sequence = childSequence\n",
    "\n",
    "        return child\n",
    "\n",
    "    def mutate(self):\n",
    "\n",
    "        self.sigma=self.sigma*math.exp(self.learningRate*self.normprng.normalvariate(0,1))\n",
    "        if self.sigma < self.minSigma: self.sigma=self.minSigma\n",
    "        if self.sigma > self.maxSigma: self.sigma=self.maxSigma\n",
    "\n",
    "        if self.sigma > 0.3:\n",
    "            if self.problemType == 'Problem2':\n",
    "                #Float Vector CrossOver\n",
    "                for i,x in enumerate(self.sequence):\n",
    "                    #Shift the value of x to postive first\n",
    "                    tmp = x + abs(self.minLimit)\n",
    "                    #Bias can only be positive, there would be no negative bias\n",
    "                    bias = (self.maxLimit-self.minLimit)*self.sigma*self.normprng.normalvariate(0,1)\n",
    "                    tmp = bias + tmp\n",
    "                    #Shift x back\n",
    "                    self.sequence[i] = tmp - abs(self.minLimit)\n",
    "            else:\n",
    "                #QuantumLattice CrossOver\n",
    "                #Mutation by changing the quantum types within a lattice\n",
    "                NumOfMutateParticles = self.uniprng.randrange(0,int(self.sigma*self.latticeLength)+1)\n",
    "                for _ in range(NumOfMutateParticles):\n",
    "                    self.uniprng.shuffle(self.sequence)\n",
    "                    self.sequence.pop()\n",
    "                    self.sequence.append(self.uniprng.randrange(0,self.numParticleType))\n",
    "\n",
    "    def evaluateFitness(self,\n",
    "                        interactionMatrix = None,\n",
    "                        selfEnergyVector  = None):\n",
    "        if self.problemType == 'Problem1':\n",
    "            self.fit=self.__class__.fitFunc(self.sequence,interactionMatrix,selfEnergyVector)\n",
    "        else:\n",
    "            self.fit=self.__class__.fitFunc(self.sequence)\n",
    "\n",
    "    def __str__(self):\n",
    "        return \"\\n\"\n",
    "    \n",
    "    def display_info(self):\n",
    "        print(\"--------------------------------\\n[INFO]\\n\")\n",
    "        print(f\"Sequence: \\n {self.sequence}\")\n",
    "        print(f\"Parameters: \\n sigma = {self.sigma}\")\n",
    "        \n"
   ]
  },
  {
   "cell_type": "markdown",
   "metadata": {},
   "source": [
    "# Initilization"
   ]
  },
  {
   "cell_type": "markdown",
   "metadata": {},
   "source": [
    "## Test Qunatum Lattice Problem1"
   ]
  },
  {
   "cell_type": "code",
   "execution_count": 2,
   "metadata": {},
   "outputs": [],
   "source": [
    "#Fit function for problem1\n",
    "#Finding total energy of lattice\n",
    "def CalulateEnergy(lattice,interactionMatrix,selfEnergyVector):\n",
    "    totalEnergy = 0\n",
    "\n",
    "    #Energy by self-energy\n",
    "    for quantum in lattice:\n",
    "        #print(f\"Type extracted : {type(selfEnergyVector[quantum])} of value : {selfEnergyVector[quantum]}\")\n",
    "        totalEnergy += selfEnergyVector[quantum]\n",
    "\n",
    "    #print(f\"total energy after self-energy:{totalEnergy}\")\n",
    "    #Energy by interaction\n",
    "    for quantum in lattice:\n",
    "        for interact_quantum in lattice:\n",
    "            totalEnergy += interactionMatrix[quantum][interact_quantum]\n",
    "\n",
    "    #print(f\"Energy after interation:{totalEnergy}\")\n",
    "    return totalEnergy"
   ]
  },
  {
   "cell_type": "code",
   "execution_count": 3,
   "metadata": {},
   "outputs": [],
   "source": [
    "randomSeed = 1234\n",
    "problemType = \"Problem1\"\n",
    "\n",
    "minLimit = 5.12\n",
    "maxLimit = -5.12\n",
    "\n",
    "#Set Params\n",
    "interactionMatrix = [[10,4,1],[4,10,5],[1,5,10]]\n",
    "selfEnergyVector  = [1,2,3]\n",
    "\n",
    "#start random number generators\n",
    "uniprng=Random()\n",
    "uniprng.seed(randomSeed)\n",
    "normprng=Random()\n",
    "normprng.seed(randomSeed+101)\n",
    "\n",
    "Individual.minLimit=minLimit\n",
    "Individual.maxLimit=maxLimit\n",
    "Individual.fitFunc=None\n",
    "Individual.uniprng=uniprng\n",
    "Individual.normprng=normprng\n",
    "Individual.problemType=problemType\n"
   ]
  },
  {
   "cell_type": "code",
   "execution_count": 4,
   "metadata": {},
   "outputs": [
    {
     "name": "stdout",
     "output_type": "stream",
     "text": [
      "--------------------------------\n",
      "[INFO]\n",
      "\n",
      "Sequence: \n",
      " [1, 0, 0, 0, 2, 0, 2, 2, 0, 0]\n",
      "Parameters: \n",
      " sigma = 0.2868152537665629\n",
      "--------------------------------\n",
      "[INFO]\n",
      "\n",
      "Sequence: \n",
      " [0, 0, 0, 0, 1, 2, 2, 1, 2, 1]\n",
      "Parameters: \n",
      " sigma = 0.78115628903337\n"
     ]
    }
   ],
   "source": [
    "individual1 = Individual(numParticleType=3,latticeLength=10)\n",
    "individual2 = Individual(numParticleType=3,latticeLength=10)\n",
    "\n",
    "individual1.display_info()\n",
    "individual2.display_info()"
   ]
  },
  {
   "cell_type": "markdown",
   "metadata": {},
   "source": [
    "## CrossOver"
   ]
  },
  {
   "cell_type": "code",
   "execution_count": 5,
   "metadata": {},
   "outputs": [
    {
     "name": "stdout",
     "output_type": "stream",
     "text": [
      "--------------------------------\n",
      "[INFO]\n",
      "\n",
      "Sequence: \n",
      " [0, 0, 2, 1, 0, 1, 1, 0, 2, 0]\n",
      "Parameters: \n",
      " sigma = 0.2868152537665629\n"
     ]
    }
   ],
   "source": [
    "child = individual1.crossover(individual2)\n",
    "\n",
    "child.display_info()"
   ]
  },
  {
   "cell_type": "markdown",
   "metadata": {},
   "source": [
    "## Mutation"
   ]
  },
  {
   "cell_type": "code",
   "execution_count": 6,
   "metadata": {},
   "outputs": [
    {
     "name": "stdout",
     "output_type": "stream",
     "text": [
      "--------------------------------\n",
      "[INFO]\n",
      "\n",
      "Sequence: \n",
      " [1, 0, 0, 0, 2, 0, 2, 2, 0, 0]\n",
      "Parameters: \n",
      " sigma = 0.20340463233893086\n",
      "--------------------------------\n",
      "[INFO]\n",
      "\n",
      "Sequence: \n",
      " [1, 2, 1, 1, 1, 0, 0, 1, 2, 2]\n",
      "Parameters: \n",
      " sigma = 0.968006676656815\n",
      "--------------------------------\n",
      "[INFO]\n",
      "\n",
      "Sequence: \n",
      " [0, 0, 2, 1, 0, 1, 1, 0, 2, 0]\n",
      "Parameters: \n",
      " sigma = 0.37832277828962896\n"
     ]
    }
   ],
   "source": [
    "child.mutate()\n",
    "individual1.mutate()\n",
    "individual2.mutate()\n",
    "\n",
    "individual1.display_info()\n",
    "individual2.display_info()\n",
    "child.display_info()\n"
   ]
  },
  {
   "cell_type": "markdown",
   "metadata": {},
   "source": [
    "## Test Problem2"
   ]
  },
  {
   "cell_type": "code",
   "execution_count": 7,
   "metadata": {},
   "outputs": [],
   "source": [
    "randomSeed = 1234\n",
    "problemType = \"Problem2\"\n",
    "\n",
    "minLimit = 5.12\n",
    "maxLimit = -5.12\n",
    "\n",
    "#Set Params\n",
    "interactionMatrix = [[10,4,1],[4,10,5],[1,5,10]]\n",
    "selfEnergyVector  = [1,2,3]\n",
    "\n",
    "#start random number generators\n",
    "uniprng=Random()\n",
    "uniprng.seed(randomSeed)\n",
    "normprng=Random()\n",
    "normprng.seed(randomSeed+101)\n",
    "\n",
    "Individual.minLimit=minLimit\n",
    "Individual.maxLimit=maxLimit\n",
    "Individual.fitFunc=None\n",
    "Individual.uniprng=uniprng\n",
    "Individual.normprng=normprng\n",
    "Individual.problemType=problemType"
   ]
  },
  {
   "cell_type": "code",
   "execution_count": 8,
   "metadata": {},
   "outputs": [
    {
     "name": "stdout",
     "output_type": "stream",
     "text": [
      "--------------------------------\n",
      "[INFO]\n",
      "\n",
      "Sequence: \n",
      " [-4.776484205487502, 0.6068981844443888, 5.043287346600067, -4.208393855479032, -4.4981145330049435, -0.8420103481236394, -1.7568100504369673, 4.26047255718826, -2.7287647517879945, 2.6950679002816744]\n",
      "Parameters: \n",
      " sigma = 0.8753487826187121\n",
      "--------------------------------\n",
      "[INFO]\n",
      "\n",
      "Sequence: \n",
      " [-2.9570326244995426, 1.5760489922854597, -1.2624023044010855, -1.1859527178610199, 3.5988004996271354, 3.2451517705223, 3.948411190387839, 4.9703036878140505, 0.1356642242072743, -4.7605919837820485]\n",
      "Parameters: \n",
      " sigma = 0.8483501752182512\n"
     ]
    }
   ],
   "source": [
    "individual1 = Individual(vectorLength=10)\n",
    "individual2 = Individual(vectorLength=10)\n",
    "\n",
    "individual1.display_info()\n",
    "individual2.display_info()"
   ]
  },
  {
   "cell_type": "code",
   "execution_count": 9,
   "metadata": {},
   "outputs": [
    {
     "name": "stdout",
     "output_type": "stream",
     "text": [
      "--------------------------------\n",
      "[INFO]\n",
      "\n",
      "Sequence: \n",
      " [4.26047255718826, 0.6068981844443888, -2.7287647517879945, -4.4981145330049435, -1.7568100504369673, -2.9570326244995426, 3.5988004996271354, 1.5760489922854597, 3.2451517705223, -1.2624023044010855]\n",
      "Parameters: \n",
      " sigma = 0.8753487826187121\n"
     ]
    }
   ],
   "source": [
    "child = individual1.crossover(individual2)\n",
    "\n",
    "child.display_info()"
   ]
  },
  {
   "cell_type": "code",
   "execution_count": 10,
   "metadata": {},
   "outputs": [
    {
     "name": "stdout",
     "output_type": "stream",
     "text": [
      "--------------------------------\n",
      "[INFO]\n",
      "\n",
      "Sequence: \n",
      " [-4.776484205487502, 0.6068981844443888, 5.043287346600067, -4.208393855479032, -4.4981145330049435, -0.8420103481236394, -1.7568100504369673, 4.26047255718826, -2.7287647517879945, 2.6950679002816744]\n",
      "Parameters: \n",
      " sigma = 0.22221752113062543\n",
      "--------------------------------\n",
      "[INFO]\n",
      "\n",
      "Sequence: \n",
      " [9.864567766472327, -25.676200048568102, -1.888019693809209, -5.384858343920737, 11.127510559375008, 20.640302802567774, -4.833895599770579, 2.482719917087989, -16.950985893102963, -2.7188965544643175]\n",
      "Parameters: \n",
      " sigma = 0.9659519790052071\n",
      "--------------------------------\n",
      "[INFO]\n",
      "\n",
      "Sequence: \n",
      " [7.779356760751374, -1.5892105214171317, -2.051362427415479, 11.617283856319432, 2.6149997117813157, 7.078064096915463, 10.249421813289544, -4.7833377997812185, 12.802729532875453, -6.437903804853022]\n",
      "Parameters: \n",
      " sigma = 1\n"
     ]
    }
   ],
   "source": [
    "child.mutate()\n",
    "individual1.mutate()\n",
    "individual2.mutate()\n",
    "\n",
    "individual1.display_info()\n",
    "individual2.display_info()\n",
    "child.display_info()"
   ]
  }
 ],
 "metadata": {
  "kernelspec": {
   "display_name": "Python 3.9.12 ('base')",
   "language": "python",
   "name": "python3"
  },
  "language_info": {
   "codemirror_mode": {
    "name": "ipython",
    "version": 3
   },
   "file_extension": ".py",
   "mimetype": "text/x-python",
   "name": "python",
   "nbconvert_exporter": "python",
   "pygments_lexer": "ipython3",
   "version": "3.9.12"
  },
  "orig_nbformat": 4,
  "vscode": {
   "interpreter": {
    "hash": "99b59deff7827a9d9c876a01001fad615b615040f915a980cea8ff96b4e320a5"
   }
  }
 },
 "nbformat": 4,
 "nbformat_minor": 2
}
